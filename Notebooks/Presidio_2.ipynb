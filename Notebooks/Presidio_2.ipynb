{
  "nbformat": 4,
  "nbformat_minor": 0,
  "metadata": {
    "colab": {
      "provenance": []
    },
    "kernelspec": {
      "name": "python3",
      "display_name": "Python 3"
    },
    "language_info": {
      "name": "python"
    }
  },
  "cells": [
    {
      "cell_type": "code",
      "source": [
        "pip install presidio-analyzer"
      ],
      "metadata": {
        "colab": {
          "base_uri": "https://localhost:8080/"
        },
        "id": "CvF1uRWR5YP5",
        "outputId": "5086816a-f324-4ff6-9e44-f55c45ce74a0"
      },
      "execution_count": null,
      "outputs": [
        {
          "output_type": "stream",
          "name": "stdout",
          "text": [
            "Collecting presidio-analyzer\n",
            "  Using cached presidio_analyzer-2.2.355-py3-none-any.whl.metadata (2.9 kB)\n",
            "Collecting phonenumbers<9.0.0,>=8.12 (from presidio-analyzer)\n",
            "  Using cached phonenumbers-8.13.51-py2.py3-none-any.whl.metadata (10 kB)\n",
            "Requirement already satisfied: pyyaml in /usr/local/lib/python3.10/dist-packages (from presidio-analyzer) (6.0.2)\n",
            "Requirement already satisfied: regex in /usr/local/lib/python3.10/dist-packages (from presidio-analyzer) (2024.9.11)\n",
            "Requirement already satisfied: spacy<4.0.0,>=3.4.4 in /usr/local/lib/python3.10/dist-packages (from presidio-analyzer) (3.7.5)\n",
            "Collecting tldextract (from presidio-analyzer)\n",
            "  Using cached tldextract-5.1.3-py3-none-any.whl.metadata (11 kB)\n",
            "Requirement already satisfied: spacy-legacy<3.1.0,>=3.0.11 in /usr/local/lib/python3.10/dist-packages (from spacy<4.0.0,>=3.4.4->presidio-analyzer) (3.0.12)\n",
            "Requirement already satisfied: spacy-loggers<2.0.0,>=1.0.0 in /usr/local/lib/python3.10/dist-packages (from spacy<4.0.0,>=3.4.4->presidio-analyzer) (1.0.5)\n",
            "Requirement already satisfied: murmurhash<1.1.0,>=0.28.0 in /usr/local/lib/python3.10/dist-packages (from spacy<4.0.0,>=3.4.4->presidio-analyzer) (1.0.10)\n",
            "Requirement already satisfied: cymem<2.1.0,>=2.0.2 in /usr/local/lib/python3.10/dist-packages (from spacy<4.0.0,>=3.4.4->presidio-analyzer) (2.0.8)\n",
            "Requirement already satisfied: preshed<3.1.0,>=3.0.2 in /usr/local/lib/python3.10/dist-packages (from spacy<4.0.0,>=3.4.4->presidio-analyzer) (3.0.9)\n",
            "Requirement already satisfied: thinc<8.3.0,>=8.2.2 in /usr/local/lib/python3.10/dist-packages (from spacy<4.0.0,>=3.4.4->presidio-analyzer) (8.2.5)\n",
            "Requirement already satisfied: wasabi<1.2.0,>=0.9.1 in /usr/local/lib/python3.10/dist-packages (from spacy<4.0.0,>=3.4.4->presidio-analyzer) (1.1.3)\n",
            "Requirement already satisfied: srsly<3.0.0,>=2.4.3 in /usr/local/lib/python3.10/dist-packages (from spacy<4.0.0,>=3.4.4->presidio-analyzer) (2.4.8)\n",
            "Requirement already satisfied: catalogue<2.1.0,>=2.0.6 in /usr/local/lib/python3.10/dist-packages (from spacy<4.0.0,>=3.4.4->presidio-analyzer) (2.0.10)\n",
            "Requirement already satisfied: weasel<0.5.0,>=0.1.0 in /usr/local/lib/python3.10/dist-packages (from spacy<4.0.0,>=3.4.4->presidio-analyzer) (0.4.1)\n",
            "Requirement already satisfied: typer<1.0.0,>=0.3.0 in /usr/local/lib/python3.10/dist-packages (from spacy<4.0.0,>=3.4.4->presidio-analyzer) (0.13.0)\n",
            "Requirement already satisfied: tqdm<5.0.0,>=4.38.0 in /usr/local/lib/python3.10/dist-packages (from spacy<4.0.0,>=3.4.4->presidio-analyzer) (4.66.6)\n",
            "Requirement already satisfied: requests<3.0.0,>=2.13.0 in /usr/local/lib/python3.10/dist-packages (from spacy<4.0.0,>=3.4.4->presidio-analyzer) (2.32.3)\n",
            "Requirement already satisfied: pydantic!=1.8,!=1.8.1,<3.0.0,>=1.7.4 in /usr/local/lib/python3.10/dist-packages (from spacy<4.0.0,>=3.4.4->presidio-analyzer) (2.9.2)\n",
            "Requirement already satisfied: jinja2 in /usr/local/lib/python3.10/dist-packages (from spacy<4.0.0,>=3.4.4->presidio-analyzer) (3.1.4)\n",
            "Requirement already satisfied: setuptools in /usr/local/lib/python3.10/dist-packages (from spacy<4.0.0,>=3.4.4->presidio-analyzer) (75.1.0)\n",
            "Requirement already satisfied: packaging>=20.0 in /usr/local/lib/python3.10/dist-packages (from spacy<4.0.0,>=3.4.4->presidio-analyzer) (24.2)\n",
            "Requirement already satisfied: langcodes<4.0.0,>=3.2.0 in /usr/local/lib/python3.10/dist-packages (from spacy<4.0.0,>=3.4.4->presidio-analyzer) (3.4.1)\n",
            "Requirement already satisfied: numpy>=1.19.0 in /usr/local/lib/python3.10/dist-packages (from spacy<4.0.0,>=3.4.4->presidio-analyzer) (1.26.4)\n",
            "Requirement already satisfied: idna in /usr/local/lib/python3.10/dist-packages (from tldextract->presidio-analyzer) (3.10)\n",
            "Collecting requests-file>=1.4 (from tldextract->presidio-analyzer)\n",
            "  Using cached requests_file-2.1.0-py2.py3-none-any.whl.metadata (1.7 kB)\n",
            "Requirement already satisfied: filelock>=3.0.8 in /usr/local/lib/python3.10/dist-packages (from tldextract->presidio-analyzer) (3.16.1)\n",
            "Requirement already satisfied: language-data>=1.2 in /usr/local/lib/python3.10/dist-packages (from langcodes<4.0.0,>=3.2.0->spacy<4.0.0,>=3.4.4->presidio-analyzer) (1.2.0)\n",
            "Requirement already satisfied: annotated-types>=0.6.0 in /usr/local/lib/python3.10/dist-packages (from pydantic!=1.8,!=1.8.1,<3.0.0,>=1.7.4->spacy<4.0.0,>=3.4.4->presidio-analyzer) (0.7.0)\n",
            "Requirement already satisfied: pydantic-core==2.23.4 in /usr/local/lib/python3.10/dist-packages (from pydantic!=1.8,!=1.8.1,<3.0.0,>=1.7.4->spacy<4.0.0,>=3.4.4->presidio-analyzer) (2.23.4)\n",
            "Requirement already satisfied: typing-extensions>=4.6.1 in /usr/local/lib/python3.10/dist-packages (from pydantic!=1.8,!=1.8.1,<3.0.0,>=1.7.4->spacy<4.0.0,>=3.4.4->presidio-analyzer) (4.12.2)\n",
            "Requirement already satisfied: charset-normalizer<4,>=2 in /usr/local/lib/python3.10/dist-packages (from requests<3.0.0,>=2.13.0->spacy<4.0.0,>=3.4.4->presidio-analyzer) (3.4.0)\n",
            "Requirement already satisfied: urllib3<3,>=1.21.1 in /usr/local/lib/python3.10/dist-packages (from requests<3.0.0,>=2.13.0->spacy<4.0.0,>=3.4.4->presidio-analyzer) (2.2.3)\n",
            "Requirement already satisfied: certifi>=2017.4.17 in /usr/local/lib/python3.10/dist-packages (from requests<3.0.0,>=2.13.0->spacy<4.0.0,>=3.4.4->presidio-analyzer) (2024.8.30)\n",
            "Requirement already satisfied: blis<0.8.0,>=0.7.8 in /usr/local/lib/python3.10/dist-packages (from thinc<8.3.0,>=8.2.2->spacy<4.0.0,>=3.4.4->presidio-analyzer) (0.7.11)\n",
            "Requirement already satisfied: confection<1.0.0,>=0.0.1 in /usr/local/lib/python3.10/dist-packages (from thinc<8.3.0,>=8.2.2->spacy<4.0.0,>=3.4.4->presidio-analyzer) (0.1.5)\n",
            "Requirement already satisfied: click>=8.0.0 in /usr/local/lib/python3.10/dist-packages (from typer<1.0.0,>=0.3.0->spacy<4.0.0,>=3.4.4->presidio-analyzer) (8.1.7)\n",
            "Requirement already satisfied: shellingham>=1.3.0 in /usr/local/lib/python3.10/dist-packages (from typer<1.0.0,>=0.3.0->spacy<4.0.0,>=3.4.4->presidio-analyzer) (1.5.4)\n",
            "Requirement already satisfied: rich>=10.11.0 in /usr/local/lib/python3.10/dist-packages (from typer<1.0.0,>=0.3.0->spacy<4.0.0,>=3.4.4->presidio-analyzer) (13.9.4)\n",
            "Requirement already satisfied: cloudpathlib<1.0.0,>=0.7.0 in /usr/local/lib/python3.10/dist-packages (from weasel<0.5.0,>=0.1.0->spacy<4.0.0,>=3.4.4->presidio-analyzer) (0.20.0)\n",
            "Requirement already satisfied: smart-open<8.0.0,>=5.2.1 in /usr/local/lib/python3.10/dist-packages (from weasel<0.5.0,>=0.1.0->spacy<4.0.0,>=3.4.4->presidio-analyzer) (7.0.5)\n",
            "Requirement already satisfied: MarkupSafe>=2.0 in /usr/local/lib/python3.10/dist-packages (from jinja2->spacy<4.0.0,>=3.4.4->presidio-analyzer) (3.0.2)\n",
            "Requirement already satisfied: marisa-trie>=0.7.7 in /usr/local/lib/python3.10/dist-packages (from language-data>=1.2->langcodes<4.0.0,>=3.2.0->spacy<4.0.0,>=3.4.4->presidio-analyzer) (1.2.1)\n",
            "Requirement already satisfied: markdown-it-py>=2.2.0 in /usr/local/lib/python3.10/dist-packages (from rich>=10.11.0->typer<1.0.0,>=0.3.0->spacy<4.0.0,>=3.4.4->presidio-analyzer) (3.0.0)\n",
            "Requirement already satisfied: pygments<3.0.0,>=2.13.0 in /usr/local/lib/python3.10/dist-packages (from rich>=10.11.0->typer<1.0.0,>=0.3.0->spacy<4.0.0,>=3.4.4->presidio-analyzer) (2.18.0)\n",
            "Requirement already satisfied: wrapt in /usr/local/lib/python3.10/dist-packages (from smart-open<8.0.0,>=5.2.1->weasel<0.5.0,>=0.1.0->spacy<4.0.0,>=3.4.4->presidio-analyzer) (1.16.0)\n",
            "Requirement already satisfied: mdurl~=0.1 in /usr/local/lib/python3.10/dist-packages (from markdown-it-py>=2.2.0->rich>=10.11.0->typer<1.0.0,>=0.3.0->spacy<4.0.0,>=3.4.4->presidio-analyzer) (0.1.2)\n",
            "Using cached presidio_analyzer-2.2.355-py3-none-any.whl (109 kB)\n",
            "Downloading phonenumbers-8.13.51-py2.py3-none-any.whl (2.6 MB)\n",
            "\u001b[2K   \u001b[90m━━━━━━━━━━━━━━━━━━━━━━━━━━━━━━━━━━━━━━━━\u001b[0m \u001b[32m2.6/2.6 MB\u001b[0m \u001b[31m26.1 MB/s\u001b[0m eta \u001b[36m0:00:00\u001b[0m\n",
            "\u001b[?25hDownloading tldextract-5.1.3-py3-none-any.whl (104 kB)\n",
            "\u001b[2K   \u001b[90m━━━━━━━━━━━━━━━━━━━━━━━━━━━━━━━━━━━━━━━━\u001b[0m \u001b[32m104.9/104.9 kB\u001b[0m \u001b[31m7.0 MB/s\u001b[0m eta \u001b[36m0:00:00\u001b[0m\n",
            "\u001b[?25hDownloading requests_file-2.1.0-py2.py3-none-any.whl (4.2 kB)\n",
            "Installing collected packages: phonenumbers, requests-file, tldextract, presidio-analyzer\n",
            "Successfully installed phonenumbers-8.13.51 presidio-analyzer-2.2.355 requests-file-2.1.0 tldextract-5.1.3\n"
          ]
        }
      ]
    },
    {
      "cell_type": "code",
      "source": [
        "pip install presidio-anonymizer"
      ],
      "metadata": {
        "colab": {
          "base_uri": "https://localhost:8080/"
        },
        "id": "tCclTV-35xcS",
        "outputId": "93dcc089-3673-487f-9218-5876248658b9"
      },
      "execution_count": null,
      "outputs": [
        {
          "output_type": "stream",
          "name": "stdout",
          "text": [
            "Collecting presidio-anonymizer\n",
            "  Downloading presidio_anonymizer-2.2.355-py3-none-any.whl.metadata (8.2 kB)\n",
            "Collecting azure-core (from presidio-anonymizer)\n",
            "  Downloading azure_core-1.32.0-py3-none-any.whl.metadata (39 kB)\n",
            "Collecting pycryptodome>=3.10.1 (from presidio-anonymizer)\n",
            "  Downloading pycryptodome-3.21.0-cp36-abi3-manylinux_2_17_x86_64.manylinux2014_x86_64.whl.metadata (3.4 kB)\n",
            "Requirement already satisfied: requests>=2.21.0 in /usr/local/lib/python3.10/dist-packages (from azure-core->presidio-anonymizer) (2.32.3)\n",
            "Requirement already satisfied: six>=1.11.0 in /usr/local/lib/python3.10/dist-packages (from azure-core->presidio-anonymizer) (1.16.0)\n",
            "Requirement already satisfied: typing-extensions>=4.6.0 in /usr/local/lib/python3.10/dist-packages (from azure-core->presidio-anonymizer) (4.12.2)\n",
            "Requirement already satisfied: charset-normalizer<4,>=2 in /usr/local/lib/python3.10/dist-packages (from requests>=2.21.0->azure-core->presidio-anonymizer) (3.4.0)\n",
            "Requirement already satisfied: idna<4,>=2.5 in /usr/local/lib/python3.10/dist-packages (from requests>=2.21.0->azure-core->presidio-anonymizer) (3.10)\n",
            "Requirement already satisfied: urllib3<3,>=1.21.1 in /usr/local/lib/python3.10/dist-packages (from requests>=2.21.0->azure-core->presidio-anonymizer) (2.2.3)\n",
            "Requirement already satisfied: certifi>=2017.4.17 in /usr/local/lib/python3.10/dist-packages (from requests>=2.21.0->azure-core->presidio-anonymizer) (2024.8.30)\n",
            "Downloading presidio_anonymizer-2.2.355-py3-none-any.whl (31 kB)\n",
            "Downloading pycryptodome-3.21.0-cp36-abi3-manylinux_2_17_x86_64.manylinux2014_x86_64.whl (2.3 MB)\n",
            "\u001b[2K   \u001b[90m━━━━━━━━━━━━━━━━━━━━━━━━━━━━━━━━━━━━━━━━\u001b[0m \u001b[32m2.3/2.3 MB\u001b[0m \u001b[31m28.6 MB/s\u001b[0m eta \u001b[36m0:00:00\u001b[0m\n",
            "\u001b[?25hDownloading azure_core-1.32.0-py3-none-any.whl (198 kB)\n",
            "\u001b[2K   \u001b[90m━━━━━━━━━━━━━━━━━━━━━━━━━━━━━━━━━━━━━━━━\u001b[0m \u001b[32m198.9/198.9 kB\u001b[0m \u001b[31m13.2 MB/s\u001b[0m eta \u001b[36m0:00:00\u001b[0m\n",
            "\u001b[?25hInstalling collected packages: pycryptodome, azure-core, presidio-anonymizer\n",
            "Successfully installed azure-core-1.32.0 presidio-anonymizer-2.2.355 pycryptodome-3.21.0\n"
          ]
        }
      ]
    },
    {
      "cell_type": "code",
      "source": [
        "pip install cryptography"
      ],
      "metadata": {
        "colab": {
          "base_uri": "https://localhost:8080/"
        },
        "id": "6FiJC3lC50qh",
        "outputId": "c315b2cb-5271-4a81-d77d-e73329133e4c"
      },
      "execution_count": null,
      "outputs": [
        {
          "output_type": "stream",
          "name": "stdout",
          "text": [
            "Requirement already satisfied: cryptography in /usr/local/lib/python3.10/dist-packages (43.0.3)\n",
            "Requirement already satisfied: cffi>=1.12 in /usr/local/lib/python3.10/dist-packages (from cryptography) (1.17.1)\n",
            "Requirement already satisfied: pycparser in /usr/local/lib/python3.10/dist-packages (from cffi>=1.12->cryptography) (2.22)\n"
          ]
        }
      ]
    },
    {
      "cell_type": "code",
      "execution_count": null,
      "metadata": {
        "id": "BElMU3x05W0M"
      },
      "outputs": [],
      "source": [
        "from presidio_analyzer import AnalyzerEngine\n",
        "from presidio_anonymizer import AnonymizerEngine\n",
        "from presidio_anonymizer.entities import OperatorConfig\n",
        "from cryptography.fernet import Fernet"
      ]
    },
    {
      "cell_type": "code",
      "source": [
        "# Generate a key for encryption/decryption\n",
        "key = Fernet.generate_key()\n",
        "cipher_suite = Fernet(key)"
      ],
      "metadata": {
        "id": "qvEaiHiM5Xdw"
      },
      "execution_count": null,
      "outputs": []
    },
    {
      "cell_type": "code",
      "source": [
        "# Initialize Presidio analyzer and anonymizer\n",
        "analyzer = AnalyzerEngine()\n",
        "anonymizer = AnonymizerEngine()"
      ],
      "metadata": {
        "colab": {
          "base_uri": "https://localhost:8080/"
        },
        "id": "b_FAlAS757bD",
        "outputId": "39edca92-801a-4417-af94-4df26075ba0e"
      },
      "execution_count": null,
      "outputs": [
        {
          "output_type": "stream",
          "name": "stderr",
          "text": [
            "WARNING:presidio-analyzer:Recognizer not added to registry because language is not supported by registry - CreditCardRecognizer supported languages: es, registry supported languages: en\n",
            "WARNING:presidio-analyzer:Recognizer not added to registry because language is not supported by registry - CreditCardRecognizer supported languages: it, registry supported languages: en\n",
            "WARNING:presidio-analyzer:Recognizer not added to registry because language is not supported by registry - CreditCardRecognizer supported languages: pl, registry supported languages: en\n",
            "WARNING:presidio-analyzer:Recognizer not added to registry because language is not supported by registry - EsNifRecognizer supported languages: es, registry supported languages: en\n",
            "WARNING:presidio-analyzer:Recognizer not added to registry because language is not supported by registry - EsNieRecognizer supported languages: es, registry supported languages: en\n",
            "WARNING:presidio-analyzer:Recognizer not added to registry because language is not supported by registry - ItDriverLicenseRecognizer supported languages: it, registry supported languages: en\n",
            "WARNING:presidio-analyzer:Recognizer not added to registry because language is not supported by registry - ItFiscalCodeRecognizer supported languages: it, registry supported languages: en\n",
            "WARNING:presidio-analyzer:Recognizer not added to registry because language is not supported by registry - ItVatCodeRecognizer supported languages: it, registry supported languages: en\n",
            "WARNING:presidio-analyzer:Recognizer not added to registry because language is not supported by registry - ItIdentityCardRecognizer supported languages: it, registry supported languages: en\n",
            "WARNING:presidio-analyzer:Recognizer not added to registry because language is not supported by registry - ItPassportRecognizer supported languages: it, registry supported languages: en\n",
            "WARNING:presidio-analyzer:Recognizer not added to registry because language is not supported by registry - PlPeselRecognizer supported languages: pl, registry supported languages: en\n"
          ]
        }
      ]
    },
    {
      "cell_type": "code",
      "source": [
        "# Custom encrypt function\n",
        "def encrypt_text(text):\n",
        "    return cipher_suite.encrypt(text.encode()).decode()"
      ],
      "metadata": {
        "id": "dldRjzBS6rw6"
      },
      "execution_count": null,
      "outputs": []
    },
    {
      "cell_type": "code",
      "source": [
        "# Custom decrypt function\n",
        "def decrypt_text(encrypted_text):\n",
        "    return cipher_suite.decrypt(encrypted_text.encode()).decode()"
      ],
      "metadata": {
        "id": "MQ5rgcJ859Ie"
      },
      "execution_count": null,
      "outputs": []
    },
    {
      "cell_type": "code",
      "source": [
        "# Function to anonymize text with encryption\n",
        "def anonymize_text_with_encryption(text):\n",
        "    # Analyze the text for PII\n",
        "    analyzer_results = analyzer.analyze(text=text, entities=None, language='en')\n",
        "\n",
        "    # Prepare operators for detected PII\n",
        "    operators = {}\n",
        "    encrypted_mapping = {}  # Store encrypted tokens mapped to original values\n",
        "    for result in analyzer_results:\n",
        "        encrypted_value = encrypt_text(result.entity_type)\n",
        "        operators[result.entity_type] = OperatorConfig(\"replace\", {\"new_value\": encrypted_value})\n",
        "        encrypted_mapping[encrypted_value] = result.entity_type\n",
        "\n",
        "    # Anonymize the text\n",
        "    anonymized_results = anonymizer.anonymize(\n",
        "        text=text,\n",
        "        analyzer_results=analyzer_results,\n",
        "        operators=operators\n",
        "    )\n",
        "    return anonymized_results.text, encrypted_mapping"
      ],
      "metadata": {
        "id": "HxQEKTdj6RNd"
      },
      "execution_count": null,
      "outputs": []
    },
    {
      "cell_type": "code",
      "source": [
        "# Function to reconstruct text from encrypted anonymized version\n",
        "def reconstruct_text(anonymized_text, encrypted_mapping):\n",
        "    for encrypted_value, original_value in encrypted_mapping.items():\n",
        "        # Replace all occurrences of the encrypted token with the original value\n",
        "        anonymized_text = anonymized_text.replace(encrypted_value, original_value)\n",
        "    return anonymized_text"
      ],
      "metadata": {
        "id": "6v3ZVotS6Tzt"
      },
      "execution_count": null,
      "outputs": []
    },
    {
      "cell_type": "code",
      "source": [
        "# Example usage\n",
        "if __name__ == \"__main__\":\n",
        "    text = '''James 'Jimmy' Rodriguez, commonly called Jimmy, resides at 123 Elm Street, Springfield, Illinois, 62701. Born on April 23, 1985, he identifies as a male and is heterosexual. He is of Hispanic origin and belongs to the Catholic faith, regularly attending St. Mary's Church. Jimmy is a union member of the Springfield Workers' Alliance and supports progressive political opinions, frequently sharing his views on local governance. His contact details include a phone number, (217) 555-1234, a fax number, (217) 555-5678, and email addresses, jimmy.rodriguez@gmail.com (personal) and j.rodriguez@workplace.com (professional). His Social Security Number is 123-45-6789.\n",
        "He holds a U.S. passport (ID: 987654321) and a driver's license (ID: D123456789), and his immigration status is U.S. Citizen. Jimmy's financial details include a checking account number 654321987 at First National Bank, a Visa credit card number 4111-1111-1111-1111 (expiry: 12/26, CVV: 123), and a prepaid card ending in 4321. He owns a certified professional license (ID: CP56789) and a vehicle with the license plate number IL-12345.\n",
        "Jimmy uses a smartphone with the serial number 9876-5432-1011 and frequently updates his blog at jimmythoughts.com. His home IP address is 192.168.1.1. He has a browsing history that includes visiting springfieldnews.com, and his cookies often reveal product preferences. Jimmy's biometric data includes fingerprints registered with the local police department and a voice profile for his smart assistant.\n",
        "In addition to his full face photographic image, his medical history includes a diagnosis of Type 2 diabetes (medical record number: MR123456). He is under a health plan with beneficiary ID HP98765. His genetic data revealed a predisposition to cardiovascular issues. Jimmy’s purchase history includes recent acquisitions of fitness equipment and prescription medications.\n",
        "Professionally, Jimmy works as an IT Manager for Springfield Tech Solutions, where he uses the pseudonym 'TechJimmy' for client interactions. His business profile is maintained on platforms like LinkedIn and includes pseudonymous details. He regularly sends and receives confidential work emails, such as chats about sensitive project information. Lastly, his unique ID code at work is EMP12345'''\n"
      ],
      "metadata": {
        "id": "XcgyRIHd7OFp"
      },
      "execution_count": null,
      "outputs": []
    },
    {
      "cell_type": "code",
      "source": [
        "# Anonymize the text\n",
        "anonymized_text, encrypted_mapping = anonymize_text_with_encryption(text)\n",
        "print(\"Anonymized Text:\", anonymized_text)\n",
        "\n"
      ],
      "metadata": {
        "colab": {
          "base_uri": "https://localhost:8080/"
        },
        "id": "Pnii8m3Z7QfV",
        "outputId": "73526c09-4cb7-499c-acc5-dbeb4a299aca"
      },
      "execution_count": null,
      "outputs": [
        {
          "output_type": "stream",
          "name": "stdout",
          "text": [
            "Anonymized Text: gAAAAABnT1dmAWKFBa8BIuibkSE_agF4VKvrUSk9x9cGkOdfdFJOI3JczYTkYfxHIPmLm0i4OXLWFq6DqetRdvFxhfmmE4KqRA==, commonly called gAAAAABnT1dmAWKFBa8BIuibkSE_agF4VKvrUSk9x9cGkOdfdFJOI3JczYTkYfxHIPmLm0i4OXLWFq6DqetRdvFxhfmmE4KqRA==, resides at gAAAAABnT1dmHUH1cmMX7_SnALB9JBtx9YyGTi6GK5cKclcx1piqbXySndqVbqZQfNIGzDIdo6Vosh8C58JzbkbwSFR9QChLWQ==, gAAAAABnT1dmHUH1cmMX7_SnALB9JBtx9YyGTi6GK5cKclcx1piqbXySndqVbqZQfNIGzDIdo6Vosh8C58JzbkbwSFR9QChLWQ==, gAAAAABnT1dmHUH1cmMX7_SnALB9JBtx9YyGTi6GK5cKclcx1piqbXySndqVbqZQfNIGzDIdo6Vosh8C58JzbkbwSFR9QChLWQ==, 62701. Born on gAAAAABnT1dm8dZj2PWb6cHabo1LfmSyCYxrnMnWa9WT907vkleU-xbc2_4nBvHvaVttNQvmNMSWfjjNCuITVsTTiGVRkUj-fQ==, he gAAAAABnT1dmf_BEH60ytXNj4n_ai4CPv5f81BgYnbRmOx5D4S2cTO1DJkTgE2MNDUmFuIAl_G3iW2P5t4e5Hpme73UChOqcmw== as a male and is heterosexual. He is of gAAAAABnT1dmRnbzZJR9-9fEFF1niCDG2auQp6WQKFRKtI-06i-Lszn_ZXOkezfUQs-9vKew9iq45WEPRJJPJOH5xBlSQrw3qg== origin and belongs to the gAAAAABnT1dmRnbzZJR9-9fEFF1niCDG2auQp6WQKFRKtI-06i-Lszn_ZXOkezfUQs-9vKew9iq45WEPRJJPJOH5xBlSQrw3qg== faith, regularly attending St. Mary's Church. gAAAAABnT1dmAWKFBa8BIuibkSE_agF4VKvrUSk9x9cGkOdfdFJOI3JczYTkYfxHIPmLm0i4OXLWFq6DqetRdvFxhfmmE4KqRA== is a union member of the Springfield Workers' Alliance and supports progressive political opinions, gAAAAABnT1dmf_BEH60ytXNj4n_ai4CPv5f81BgYnbRmOx5D4S2cTO1DJkTgE2MNDUmFuIAl_G3iW2P5t4e5Hpme73UChOqcmw== sharing his views on local gAAAAABnT1dmf_BEH60ytXNj4n_ai4CPv5f81BgYnbRmOx5D4S2cTO1DJkTgE2MNDUmFuIAl_G3iW2P5t4e5Hpme73UChOqcmw==. His contact details include a phone number, gAAAAABnT1dm9v7LO49CugLyTmD6b8Qq4D7SkjsAUGO6QgpSIBFsO-zULrhqo0no2WT6qn4yUU10-cMmhrCW366JS1f_V6XgIg==, a fax number, gAAAAABnT1dm9v7LO49CugLyTmD6b8Qq4D7SkjsAUGO6QgpSIBFsO-zULrhqo0no2WT6qn4yUU10-cMmhrCW366JS1f_V6XgIg==, and email addresses, gAAAAABnT1dm13xUXiONNfMWDnF0JI2eJZbQZbSRJsdn-Rrj5pEw4oq0f0_88z5RKUA-Nk5dtDrAkg6n7tXZp5LEdE8x43GweA== (personal) and gAAAAABnT1dm13xUXiONNfMWDnF0JI2eJZbQZbSRJsdn-Rrj5pEw4oq0f0_88z5RKUA-Nk5dtDrAkg6n7tXZp5LEdE8x43GweA== (professional). His Social Security Number is 123-45-6789.\n",
            "He holds a gAAAAABnT1dmHUH1cmMX7_SnALB9JBtx9YyGTi6GK5cKclcx1piqbXySndqVbqZQfNIGzDIdo6Vosh8C58JzbkbwSFR9QChLWQ== passport (ID: gAAAAABnT1dm5Mp_KckaVAO9Hn4uGBX7gw_ZYhV3a8okXpLl7KL_aMDWcDiZagJpEgpZP6jDsO-K-PqSONpdjQ8Ykm9QHwyg3A==) and a driver's license (ID: gAAAAABnT1dmFEP3kB0bGkALZKKIeS6F5Dnuy5QulZ1ENxDCZyX4lU4r3S6JsTm8AXlu7FvWLOs1r66WzJd3yb-4u-pccJ8ahCxr8s-ARSfc4x1kiIfsZQk=), and his immigration status is U.S. Citizen. gAAAAABnT1dmAWKFBa8BIuibkSE_agF4VKvrUSk9x9cGkOdfdFJOI3JczYTkYfxHIPmLm0i4OXLWFq6DqetRdvFxhfmmE4KqRA=='s financial details include a checking account number gAAAAABnT1dm2MJoOxN7YiTRn9Qj4JBdQQSYxnPfQ9byyqVo-AchX1q4Flnszt5VwbwSrLV-1iBhn54nqcSQvNv3KERfKXQwmA== at First National Bank, a Visa credit card number gAAAAABnT1dm2e1HTmm91PBGVvgr6NsSTuQ00D0lrNH8i2a-XaFXG2GNFEiWLWpqpIlS60kQDx0PJGtGxL6cegWdYxvXxgIjOg== (expiry: gAAAAABnT1dm8dZj2PWb6cHabo1LfmSyCYxrnMnWa9WT907vkleU-xbc2_4nBvHvaVttNQvmNMSWfjjNCuITVsTTiGVRkUj-fQ==, CVV: 123), and a prepaid card ending in gAAAAABnT1dm8dZj2PWb6cHabo1LfmSyCYxrnMnWa9WT907vkleU-xbc2_4nBvHvaVttNQvmNMSWfjjNCuITVsTTiGVRkUj-fQ==. He owns a certified professional license (ID: gAAAAABnT1dmFEP3kB0bGkALZKKIeS6F5Dnuy5QulZ1ENxDCZyX4lU4r3S6JsTm8AXlu7FvWLOs1r66WzJd3yb-4u-pccJ8ahCxr8s-ARSfc4x1kiIfsZQk=) and a vehicle with the license plate number gAAAAABnT1dmHUH1cmMX7_SnALB9JBtx9YyGTi6GK5cKclcx1piqbXySndqVbqZQfNIGzDIdo6Vosh8C58JzbkbwSFR9QChLWQ==.\n",
            "gAAAAABnT1dmAWKFBa8BIuibkSE_agF4VKvrUSk9x9cGkOdfdFJOI3JczYTkYfxHIPmLm0i4OXLWFq6DqetRdvFxhfmmE4KqRA== uses a gAAAAABnT1dmf_BEH60ytXNj4n_ai4CPv5f81BgYnbRmOx5D4S2cTO1DJkTgE2MNDUmFuIAl_G3iW2P5t4e5Hpme73UChOqcmw== with the serial number gAAAAABnT1dmf_BEH60ytXNj4n_ai4CPv5f81BgYnbRmOx5D4S2cTO1DJkTgE2MNDUmFuIAl_G3iW2P5t4e5Hpme73UChOqcmw==1011 and gAAAAABnT1dmf_BEH60ytXNj4n_ai4CPv5f81BgYnbRmOx5D4S2cTO1DJkTgE2MNDUmFuIAl_G3iW2P5t4e5Hpme73UChOqcmw== updates his blog at gAAAAABnT1dmaGa6ijZT7I5xyRZiQvAoJoYZYjzYl9uSklpMrEv-KOCupWXIDSbQKk7IBxSXOWHNc6spwJWvP28FfOxejJ6u8A==. His home IP address is gAAAAABnT1dm9DKtjkkxG5BiI6bY_PxTNKYCANcSTzQFn4z-wUr4AJGKYfD4VQF2Sc-B1746mX_-g05SquLBorFdQLrds2Ipqw==. He has a browsing history that includes visiting gAAAAABnT1dmaGa6ijZT7I5xyRZiQvAoJoYZYjzYl9uSklpMrEv-KOCupWXIDSbQKk7IBxSXOWHNc6spwJWvP28FfOxejJ6u8A==, and his cookies often reveal product preferences. gAAAAABnT1dmAWKFBa8BIuibkSE_agF4VKvrUSk9x9cGkOdfdFJOI3JczYTkYfxHIPmLm0i4OXLWFq6DqetRdvFxhfmmE4KqRA=='s biometric data includes fingerprints gAAAAABnT1dmf_BEH60ytXNj4n_ai4CPv5f81BgYnbRmOx5D4S2cTO1DJkTgE2MNDUmFuIAl_G3iW2P5t4e5Hpme73UChOqcmw== with the local police gAAAAABnT1dmf_BEH60ytXNj4n_ai4CPv5f81BgYnbRmOx5D4S2cTO1DJkTgE2MNDUmFuIAl_G3iW2P5t4e5Hpme73UChOqcmw== and a voice profile for his smart assistant.\n",
            "In addition to his full face photographic image, his medical history includes a diagnosis of Type 2 diabetes (medical record number: gAAAAABnT1dmFEP3kB0bGkALZKKIeS6F5Dnuy5QulZ1ENxDCZyX4lU4r3S6JsTm8AXlu7FvWLOs1r66WzJd3yb-4u-pccJ8ahCxr8s-ARSfc4x1kiIfsZQk=). He is under a health plan with beneficiary ID gAAAAABnT1dmFEP3kB0bGkALZKKIeS6F5Dnuy5QulZ1ENxDCZyX4lU4r3S6JsTm8AXlu7FvWLOs1r66WzJd3yb-4u-pccJ8ahCxr8s-ARSfc4x1kiIfsZQk=. His genetic data revealed a predisposition to cardiovascular issues. gAAAAABnT1dmAWKFBa8BIuibkSE_agF4VKvrUSk9x9cGkOdfdFJOI3JczYTkYfxHIPmLm0i4OXLWFq6DqetRdvFxhfmmE4KqRA==’s purchase history includes recent acquisitions of fitness equipment and prescription medications.\n",
            "Professionally, gAAAAABnT1dmAWKFBa8BIuibkSE_agF4VKvrUSk9x9cGkOdfdFJOI3JczYTkYfxHIPmLm0i4OXLWFq6DqetRdvFxhfmmE4KqRA== works as an IT Manager for Springfield Tech Solutions, where he uses the pseudonym 'TechJimmy' for client interactions. His business profile is gAAAAABnT1dmf_BEH60ytXNj4n_ai4CPv5f81BgYnbRmOx5D4S2cTO1DJkTgE2MNDUmFuIAl_G3iW2P5t4e5Hpme73UChOqcmw== on platforms like LinkedIn and includes pseudonymous details. He regularly sends and receives confidential work emails, such as chats about sensitive project information. Lastly, his unique ID code at work is EMP12345\n",
            "Reconstructed Text: PERSON, commonly called PERSON, resides at LOCATION, LOCATION, LOCATION, 62701. Born on DATE_TIME, he IN_PAN as a male and is heterosexual. He is of NRP origin and belongs to the NRP faith, regularly attending St. Mary's Church. PERSON is a union member of the Springfield Workers' Alliance and supports progressive political opinions, IN_PAN sharing his views on local IN_PAN. His contact details include a phone number, PHONE_NUMBER, a fax number, PHONE_NUMBER, and email addresses, EMAIL_ADDRESS (personal) and EMAIL_ADDRESS (professional). His Social Security Number is 123-45-6789.\n",
            "He holds a LOCATION passport (ID: US_PASSPORT) and a driver's license (ID: US_DRIVER_LICENSE), and his immigration status is U.S. Citizen. PERSON's financial details include a checking account number US_BANK_NUMBER at First National Bank, a Visa credit card number CREDIT_CARD (expiry: DATE_TIME, CVV: 123), and a prepaid card ending in DATE_TIME. He owns a certified professional license (ID: US_DRIVER_LICENSE) and a vehicle with the license plate number LOCATION.\n",
            "PERSON uses a IN_PAN with the serial number IN_PAN1011 and IN_PAN updates his blog at URL. His home IP address is IP_ADDRESS. He has a browsing history that includes visiting URL, and his cookies often reveal product preferences. PERSON's biometric data includes fingerprints IN_PAN with the local police IN_PAN and a voice profile for his smart assistant.\n",
            "In addition to his full face photographic image, his medical history includes a diagnosis of Type 2 diabetes (medical record number: US_DRIVER_LICENSE). He is under a health plan with beneficiary ID US_DRIVER_LICENSE. His genetic data revealed a predisposition to cardiovascular issues. PERSON’s purchase history includes recent acquisitions of fitness equipment and prescription medications.\n",
            "Professionally, PERSON works as an IT Manager for Springfield Tech Solutions, where he uses the pseudonym 'TechJimmy' for client interactions. His business profile is IN_PAN on platforms like LinkedIn and includes pseudonymous details. He regularly sends and receives confidential work emails, such as chats about sensitive project information. Lastly, his unique ID code at work is EMP12345\n"
          ]
        }
      ]
    },
    {
      "cell_type": "code",
      "source": [
        "\n",
        "# Reconstruct the text\n",
        "reconstructed_text = reconstruct_text(anonymized_text, encrypted_mapping)\n",
        "print(\"Reconstructed Text:\", reconstructed_text)"
      ],
      "metadata": {
        "colab": {
          "base_uri": "https://localhost:8080/"
        },
        "id": "OVxkOWZw7Spq",
        "outputId": "eb58cd3f-b6c8-4f9b-c5f2-385df707f92f"
      },
      "execution_count": null,
      "outputs": [
        {
          "output_type": "stream",
          "name": "stdout",
          "text": [
            "Reconstructed Text: PERSON, commonly called PERSON, resides at LOCATION, LOCATION, LOCATION, 62701. Born on DATE_TIME, he IN_PAN as a male and is heterosexual. He is of NRP origin and belongs to the NRP faith, regularly attending St. Mary's Church. PERSON is a union member of the Springfield Workers' Alliance and supports progressive political opinions, IN_PAN sharing his views on local IN_PAN. His contact details include a phone number, PHONE_NUMBER, a fax number, PHONE_NUMBER, and email addresses, EMAIL_ADDRESS (personal) and EMAIL_ADDRESS (professional). His Social Security Number is 123-45-6789.\n",
            "He holds a LOCATION passport (ID: US_PASSPORT) and a driver's license (ID: US_DRIVER_LICENSE), and his immigration status is U.S. Citizen. PERSON's financial details include a checking account number US_BANK_NUMBER at First National Bank, a Visa credit card number CREDIT_CARD (expiry: DATE_TIME, CVV: 123), and a prepaid card ending in DATE_TIME. He owns a certified professional license (ID: US_DRIVER_LICENSE) and a vehicle with the license plate number LOCATION.\n",
            "PERSON uses a IN_PAN with the serial number IN_PAN1011 and IN_PAN updates his blog at URL. His home IP address is IP_ADDRESS. He has a browsing history that includes visiting URL, and his cookies often reveal product preferences. PERSON's biometric data includes fingerprints IN_PAN with the local police IN_PAN and a voice profile for his smart assistant.\n",
            "In addition to his full face photographic image, his medical history includes a diagnosis of Type 2 diabetes (medical record number: US_DRIVER_LICENSE). He is under a health plan with beneficiary ID US_DRIVER_LICENSE. His genetic data revealed a predisposition to cardiovascular issues. PERSON’s purchase history includes recent acquisitions of fitness equipment and prescription medications.\n",
            "Professionally, PERSON works as an IT Manager for Springfield Tech Solutions, where he uses the pseudonym 'TechJimmy' for client interactions. His business profile is IN_PAN on platforms like LinkedIn and includes pseudonymous details. He regularly sends and receives confidential work emails, such as chats about sensitive project information. Lastly, his unique ID code at work is EMP12345\n"
          ]
        }
      ]
    },
    {
      "cell_type": "markdown",
      "source": [
        "##SCRUBADUB -built on regex\n",
        "\n",
        "###Entities Detected Natively by scrubadub:\n",
        "\n",
        "Names\n",
        "\n",
        "Phone Numbers\n",
        "\n",
        "Social Security Numbers (SSNs)\n",
        "\n",
        "IP Addresses\n",
        "\n",
        "URLs/Blogs\n",
        "\n",
        "Dates\n",
        "\n",
        "Credit/Debit Card Numbers\n",
        "\n",
        "License Plates (limited configurations)\n",
        "\n",
        "###Entities Not Detected Natively by scrubadub:\n",
        "\n",
        "PII Related to Personal Attributes:\n",
        "\n",
        "Full or Partial Addresses,\n",
        "Gender,\n",
        "Race/Ethnicity,\n",
        "Sexual Orientation,\n",
        "Religious/Philosophical Beliefs,\n",
        "Union Membership,\n",
        "Political Opinions,\n",
        "Identifiers and Financial Data:,\n",
        "Passport/Government IDs,\n",
        "Bank Account Numbers,\n",
        "Prepaid/Gift Card Numbers,\n",
        "Device Identifiers,\n",
        "Biometric Data,\n",
        "\n",
        "####Health and Medical Data:\n",
        "\n",
        "Medical Records,\n",
        "Health Plan IDs,\n",
        "Genetic Data,\n",
        "Web and Digital Footprint:\n",
        "Cookies/Browsing History,\n",
        "Personalized User Profiles,\n",
        "Other:\n",
        "Employment Data,\n",
        "Purchase History,\n",
        "Unique Identifying Numbers"
      ],
      "metadata": {
        "id": "wFOFjHy1UR3s"
      }
    },
    {
      "cell_type": "code",
      "source": [
        "pip install scrubadub\n"
      ],
      "metadata": {
        "colab": {
          "base_uri": "https://localhost:8080/"
        },
        "id": "QX2XIZLtUW-E",
        "outputId": "9b162b63-5b83-454d-9c7f-dcf6811597b5"
      },
      "execution_count": null,
      "outputs": [
        {
          "output_type": "stream",
          "name": "stdout",
          "text": [
            "Collecting scrubadub\n",
            "  Downloading scrubadub-2.0.1-py3-none-any.whl.metadata (5.2 kB)\n",
            "Collecting textblob==0.15.3 (from scrubadub)\n",
            "  Downloading textblob-0.15.3-py2.py3-none-any.whl.metadata (4.2 kB)\n",
            "Requirement already satisfied: phonenumbers in /usr/local/lib/python3.10/dist-packages (from scrubadub) (8.13.51)\n",
            "Collecting python-stdnum (from scrubadub)\n",
            "  Downloading python_stdnum-1.20-py2.py3-none-any.whl.metadata (18 kB)\n",
            "Collecting dateparser (from scrubadub)\n",
            "  Downloading dateparser-1.2.0-py2.py3-none-any.whl.metadata (28 kB)\n",
            "Requirement already satisfied: catalogue in /usr/local/lib/python3.10/dist-packages (from scrubadub) (2.0.10)\n",
            "Requirement already satisfied: scikit-learn in /usr/local/lib/python3.10/dist-packages (from scrubadub) (1.5.2)\n",
            "Requirement already satisfied: typing-extensions in /usr/local/lib/python3.10/dist-packages (from scrubadub) (4.12.2)\n",
            "Collecting faker (from scrubadub)\n",
            "  Downloading Faker-33.1.0-py3-none-any.whl.metadata (15 kB)\n",
            "Requirement already satisfied: nltk>=3.1 in /usr/local/lib/python3.10/dist-packages (from textblob==0.15.3->scrubadub) (3.9.1)\n",
            "Requirement already satisfied: python-dateutil in /usr/local/lib/python3.10/dist-packages (from dateparser->scrubadub) (2.8.2)\n",
            "Requirement already satisfied: pytz in /usr/local/lib/python3.10/dist-packages (from dateparser->scrubadub) (2024.2)\n",
            "Requirement already satisfied: regex!=2019.02.19,!=2021.8.27 in /usr/local/lib/python3.10/dist-packages (from dateparser->scrubadub) (2024.9.11)\n",
            "Requirement already satisfied: tzlocal in /usr/local/lib/python3.10/dist-packages (from dateparser->scrubadub) (5.2)\n",
            "Requirement already satisfied: numpy>=1.19.5 in /usr/local/lib/python3.10/dist-packages (from scikit-learn->scrubadub) (1.26.4)\n",
            "Requirement already satisfied: scipy>=1.6.0 in /usr/local/lib/python3.10/dist-packages (from scikit-learn->scrubadub) (1.13.1)\n",
            "Requirement already satisfied: joblib>=1.2.0 in /usr/local/lib/python3.10/dist-packages (from scikit-learn->scrubadub) (1.4.2)\n",
            "Requirement already satisfied: threadpoolctl>=3.1.0 in /usr/local/lib/python3.10/dist-packages (from scikit-learn->scrubadub) (3.5.0)\n",
            "Requirement already satisfied: click in /usr/local/lib/python3.10/dist-packages (from nltk>=3.1->textblob==0.15.3->scrubadub) (8.1.7)\n",
            "Requirement already satisfied: tqdm in /usr/local/lib/python3.10/dist-packages (from nltk>=3.1->textblob==0.15.3->scrubadub) (4.66.6)\n",
            "Requirement already satisfied: six>=1.5 in /usr/local/lib/python3.10/dist-packages (from python-dateutil->dateparser->scrubadub) (1.16.0)\n",
            "Downloading scrubadub-2.0.1-py3-none-any.whl (65 kB)\n",
            "\u001b[2K   \u001b[90m━━━━━━━━━━━━━━━━━━━━━━━━━━━━━━━━━━━━━━━━\u001b[0m \u001b[32m65.2/65.2 kB\u001b[0m \u001b[31m3.3 MB/s\u001b[0m eta \u001b[36m0:00:00\u001b[0m\n",
            "\u001b[?25hDownloading textblob-0.15.3-py2.py3-none-any.whl (636 kB)\n",
            "\u001b[2K   \u001b[90m━━━━━━━━━━━━━━━━━━━━━━━━━━━━━━━━━━━━━━━━\u001b[0m \u001b[32m636.5/636.5 kB\u001b[0m \u001b[31m16.8 MB/s\u001b[0m eta \u001b[36m0:00:00\u001b[0m\n",
            "\u001b[?25hDownloading dateparser-1.2.0-py2.py3-none-any.whl (294 kB)\n",
            "\u001b[2K   \u001b[90m━━━━━━━━━━━━━━━━━━━━━━━━━━━━━━━━━━━━━━━━\u001b[0m \u001b[32m295.0/295.0 kB\u001b[0m \u001b[31m18.9 MB/s\u001b[0m eta \u001b[36m0:00:00\u001b[0m\n",
            "\u001b[?25hDownloading Faker-33.1.0-py3-none-any.whl (1.9 MB)\n",
            "\u001b[2K   \u001b[90m━━━━━━━━━━━━━━━━━━━━━━━━━━━━━━━━━━━━━━━━\u001b[0m \u001b[32m1.9/1.9 MB\u001b[0m \u001b[31m48.0 MB/s\u001b[0m eta \u001b[36m0:00:00\u001b[0m\n",
            "\u001b[?25hDownloading python_stdnum-1.20-py2.py3-none-any.whl (1.1 MB)\n",
            "\u001b[2K   \u001b[90m━━━━━━━━━━━━━━━━━━━━━━━━━━━━━━━━━━━━━━━━\u001b[0m \u001b[32m1.1/1.1 MB\u001b[0m \u001b[31m47.4 MB/s\u001b[0m eta \u001b[36m0:00:00\u001b[0m\n",
            "\u001b[?25hInstalling collected packages: python-stdnum, textblob, faker, dateparser, scrubadub\n",
            "  Attempting uninstall: textblob\n",
            "    Found existing installation: textblob 0.17.1\n",
            "    Uninstalling textblob-0.17.1:\n",
            "      Successfully uninstalled textblob-0.17.1\n",
            "Successfully installed dateparser-1.2.0 faker-33.1.0 python-stdnum-1.20 scrubadub-2.0.1 textblob-0.15.3\n"
          ]
        }
      ]
    },
    {
      "cell_type": "code",
      "source": [
        "import scrubadub\n",
        "\n",
        "# Sample text containing various PII\n",
        "text = \"\"\"\n",
        "James 'Jimmy' Rodriguez, commonly called Jimmy, resides at 123 Elm Street, Springfield, Illinois, 62701.\n",
        "Born on April 23, 1985, he identifies as a male and is heterosexual. He is of Hispanic origin and belongs to the Catholic faith, regularly attending St. Mary's Church.\n",
        "Jimmy is a union member of the Springfield Workers' Alliance and supports progressive political opinions, frequently sharing his views on local governance.\n",
        "His contact details include a phone number, (217) 555-1234, a fax number, (217) 555-5678, and email addresses, jimmy.rodriguez@gmail.com (personal) and j.rodriguez@workplace.com (professional).\n",
        "His Social Security Number is 123-45-6789. He holds a U.S. passport (ID: 987654321) and a driver's license (ID: D123456789), and his immigration status is U.S. Citizen.\n",
        "Jimmy's financial details include a checking account number 654321987 at First National Bank, a Visa credit card number 4111-1111-1111-1111 (expiry: 12/26, CVV: 123),\n",
        "and a prepaid card ending in 4321. He owns a certified professional license (ID: CP56789) and a vehicle with the license plate number IL-12345.\n",
        "Jimmy uses a smartphone with the serial number 9876-5432-1011 and frequently updates his blog at jimmythoughts.com.\n",
        "His home IP address is 192.168.1.1. He has a browsing history that includes visiting springfieldnews.com, and his cookies often reveal product preferences.\n",
        "Jimmy's biometric data includes fingerprints registered with the local police department and a voice profile for his smart assistant.\n",
        "In addition to his full face photographic image, his medical history includes a diagnosis of Type 2 diabetes (medical record number: MR123456).\n",
        "He is under a health plan with beneficiary ID HP98765. His genetic data revealed a predisposition to cardiovascular issues.\n",
        "Jimmy’s purchase history includes recent acquisitions of fitness equipment and prescription medications.\n",
        "Professionally, Jimmy works as an IT Manager for Springfield Tech Solutions, where he uses the pseudonym 'TechJimmy' for client interactions.\n",
        "His business profile is maintained on platforms like LinkedIn and includes pseudonymous details.\n",
        "He regularly sends and receives confidential work emails, such as chats about sensitive project information.\n",
        "Lastly, his unique ID code at work is EMP12345.\n",
        "\"\"\"\n",
        "\n",
        "# Use scrubadub to detect PII\n",
        "cleaned_text = scrubadub.clean(text)\n",
        "\n",
        "# Print anonymized text\n",
        "print(\"Anonymized Text:\")\n",
        "print(cleaned_text)\n"
      ],
      "metadata": {
        "colab": {
          "base_uri": "https://localhost:8080/"
        },
        "id": "8TuHMek-UZ2b",
        "outputId": "2351ecc5-6eb8-4525-8571-1f7e5c1821c4"
      },
      "execution_count": null,
      "outputs": [
        {
          "output_type": "stream",
          "name": "stdout",
          "text": [
            "Anonymized Text:\n",
            "\n",
            "James 'Jimmy' Rodriguez, commonly called Jimmy, resides at 123 Elm Street, Springfield, Illinois, 62701. \n",
            "Born on April 23, 1985, he identifies as a male and is heterosexual. He is of Hispanic origin and belongs to the Catholic faith, regularly attending St. Mary's Church.\n",
            "Jimmy is a union member of the Springfield Workers' Alliance and supports progressive political opinions, frequently sharing his views on local governance. \n",
            "His contact details include a phone number, {{PHONE}}, a fax number, {{PHONE}}, and email addresses, {{EMAIL}} (personal) and {{EMAIL}} (professional). \n",
            "His Social Security Number is {{SOCIAL_SECURITY_NUMBER}}. He holds a U.S. passport (ID: 987654321) and a driver's license (ID: D123456789), and his immigration status is U.S. Citizen. \n",
            "Jimmy's financial details include a checking account number 654321987 at First National Bank, a Visa credit card number 4111-1111-1111-1111 (expiry: 12/26, CVV: 123), \n",
            "and a prepaid card ending in 4321. He owns a certified professional license (ID: CP56789) and a vehicle with the license plate number IL-12345.\n",
            "Jimmy uses a smartphone with the serial number 9876-5432-1011 and frequently updates his {{EMAIL}}. \n",
            "His home IP address is 192.168.1.1. He has a browsing history that includes visiting springfieldnews.com, and his cookies often reveal product preferences. \n",
            "Jimmy's biometric data includes fingerprints registered with the local police department and a voice profile for his smart assistant. \n",
            "In addition to his full face photographic image, his medical history includes a diagnosis of Type 2 diabetes (medical record number: MR123456). \n",
            "He is under a health plan with beneficiary ID HP98765. His genetic data revealed a predisposition to cardiovascular issues. \n",
            "Jimmy’s purchase history includes recent acquisitions of fitness equipment and prescription medications. \n",
            "Professionally, Jimmy works as an IT Manager for Springfield Tech Solutions, where he uses the pseudonym 'TechJimmy' for client interactions. \n",
            "His business profile is maintained on platforms like LinkedIn and includes pseudonymous details. \n",
            "He regularly sends and receives confidential work emails, such as chats about sensitive project information. \n",
            "Lastly, his unique ID code at work is EMP12345.\n",
            "\n"
          ]
        }
      ]
    },
    {
      "cell_type": "markdown",
      "source": [
        "##anonLLM - built on SpaCY (NER), Regex, Presidio\n",
        "\n",
        "###Integration with APIs:\n",
        "\n",
        "####Prepares the text for submission to APIs like GPT ( OpenAI, Cohere) while ensuring sensitive information is masked.\n",
        "\n",
        "####Focuses on preprocessing steps to safeguard data privacy"
      ],
      "metadata": {
        "id": "3fGi_7O9meXH"
      }
    },
    {
      "cell_type": "code",
      "source": [
        "pip install anonLLM"
      ],
      "metadata": {
        "colab": {
          "base_uri": "https://localhost:8080/"
        },
        "id": "JaMHvHjIqNNM",
        "outputId": "724c46a1-d26f-4ef3-e01e-64ee0b0181b2"
      },
      "execution_count": null,
      "outputs": [
        {
          "output_type": "stream",
          "name": "stdout",
          "text": [
            "Requirement already satisfied: anonLLM in /usr/local/lib/python3.10/dist-packages (0.1.10)\n",
            "Requirement already satisfied: Faker in /usr/local/lib/python3.10/dist-packages (from anonLLM) (33.1.0)\n",
            "Requirement already satisfied: openai in /usr/local/lib/python3.10/dist-packages (from anonLLM) (1.54.4)\n",
            "Requirement already satisfied: pydantic>=2 in /usr/local/lib/python3.10/dist-packages (from anonLLM) (2.9.2)\n",
            "Requirement already satisfied: spacy>=3 in /usr/local/lib/python3.10/dist-packages (from anonLLM) (3.7.5)\n",
            "Requirement already satisfied: annotated-types>=0.6.0 in /usr/local/lib/python3.10/dist-packages (from pydantic>=2->anonLLM) (0.7.0)\n",
            "Requirement already satisfied: pydantic-core==2.23.4 in /usr/local/lib/python3.10/dist-packages (from pydantic>=2->anonLLM) (2.23.4)\n",
            "Requirement already satisfied: typing-extensions>=4.6.1 in /usr/local/lib/python3.10/dist-packages (from pydantic>=2->anonLLM) (4.12.2)\n",
            "Requirement already satisfied: spacy-legacy<3.1.0,>=3.0.11 in /usr/local/lib/python3.10/dist-packages (from spacy>=3->anonLLM) (3.0.12)\n",
            "Requirement already satisfied: spacy-loggers<2.0.0,>=1.0.0 in /usr/local/lib/python3.10/dist-packages (from spacy>=3->anonLLM) (1.0.5)\n",
            "Requirement already satisfied: murmurhash<1.1.0,>=0.28.0 in /usr/local/lib/python3.10/dist-packages (from spacy>=3->anonLLM) (1.0.10)\n",
            "Requirement already satisfied: cymem<2.1.0,>=2.0.2 in /usr/local/lib/python3.10/dist-packages (from spacy>=3->anonLLM) (2.0.8)\n",
            "Requirement already satisfied: preshed<3.1.0,>=3.0.2 in /usr/local/lib/python3.10/dist-packages (from spacy>=3->anonLLM) (3.0.9)\n",
            "Requirement already satisfied: thinc<8.3.0,>=8.2.2 in /usr/local/lib/python3.10/dist-packages (from spacy>=3->anonLLM) (8.2.5)\n",
            "Requirement already satisfied: wasabi<1.2.0,>=0.9.1 in /usr/local/lib/python3.10/dist-packages (from spacy>=3->anonLLM) (1.1.3)\n",
            "Requirement already satisfied: srsly<3.0.0,>=2.4.3 in /usr/local/lib/python3.10/dist-packages (from spacy>=3->anonLLM) (2.4.8)\n",
            "Requirement already satisfied: catalogue<2.1.0,>=2.0.6 in /usr/local/lib/python3.10/dist-packages (from spacy>=3->anonLLM) (2.0.10)\n",
            "Requirement already satisfied: weasel<0.5.0,>=0.1.0 in /usr/local/lib/python3.10/dist-packages (from spacy>=3->anonLLM) (0.4.1)\n",
            "Requirement already satisfied: typer<1.0.0,>=0.3.0 in /usr/local/lib/python3.10/dist-packages (from spacy>=3->anonLLM) (0.13.0)\n",
            "Requirement already satisfied: tqdm<5.0.0,>=4.38.0 in /usr/local/lib/python3.10/dist-packages (from spacy>=3->anonLLM) (4.66.6)\n",
            "Requirement already satisfied: requests<3.0.0,>=2.13.0 in /usr/local/lib/python3.10/dist-packages (from spacy>=3->anonLLM) (2.32.3)\n",
            "Requirement already satisfied: jinja2 in /usr/local/lib/python3.10/dist-packages (from spacy>=3->anonLLM) (3.1.4)\n",
            "Requirement already satisfied: setuptools in /usr/local/lib/python3.10/dist-packages (from spacy>=3->anonLLM) (75.1.0)\n",
            "Requirement already satisfied: packaging>=20.0 in /usr/local/lib/python3.10/dist-packages (from spacy>=3->anonLLM) (24.2)\n",
            "Requirement already satisfied: langcodes<4.0.0,>=3.2.0 in /usr/local/lib/python3.10/dist-packages (from spacy>=3->anonLLM) (3.4.1)\n",
            "Requirement already satisfied: numpy>=1.19.0 in /usr/local/lib/python3.10/dist-packages (from spacy>=3->anonLLM) (1.26.4)\n",
            "Requirement already satisfied: python-dateutil>=2.4 in /usr/local/lib/python3.10/dist-packages (from Faker->anonLLM) (2.8.2)\n",
            "Requirement already satisfied: anyio<5,>=3.5.0 in /usr/local/lib/python3.10/dist-packages (from openai->anonLLM) (3.7.1)\n",
            "Requirement already satisfied: distro<2,>=1.7.0 in /usr/local/lib/python3.10/dist-packages (from openai->anonLLM) (1.9.0)\n",
            "Requirement already satisfied: httpx<1,>=0.23.0 in /usr/local/lib/python3.10/dist-packages (from openai->anonLLM) (0.27.2)\n",
            "Requirement already satisfied: jiter<1,>=0.4.0 in /usr/local/lib/python3.10/dist-packages (from openai->anonLLM) (0.7.1)\n",
            "Requirement already satisfied: sniffio in /usr/local/lib/python3.10/dist-packages (from openai->anonLLM) (1.3.1)\n",
            "Requirement already satisfied: idna>=2.8 in /usr/local/lib/python3.10/dist-packages (from anyio<5,>=3.5.0->openai->anonLLM) (3.10)\n",
            "Requirement already satisfied: exceptiongroup in /usr/local/lib/python3.10/dist-packages (from anyio<5,>=3.5.0->openai->anonLLM) (1.2.2)\n",
            "Requirement already satisfied: certifi in /usr/local/lib/python3.10/dist-packages (from httpx<1,>=0.23.0->openai->anonLLM) (2024.8.30)\n",
            "Requirement already satisfied: httpcore==1.* in /usr/local/lib/python3.10/dist-packages (from httpx<1,>=0.23.0->openai->anonLLM) (1.0.7)\n",
            "Requirement already satisfied: h11<0.15,>=0.13 in /usr/local/lib/python3.10/dist-packages (from httpcore==1.*->httpx<1,>=0.23.0->openai->anonLLM) (0.14.0)\n",
            "Requirement already satisfied: language-data>=1.2 in /usr/local/lib/python3.10/dist-packages (from langcodes<4.0.0,>=3.2.0->spacy>=3->anonLLM) (1.2.0)\n",
            "Requirement already satisfied: six>=1.5 in /usr/local/lib/python3.10/dist-packages (from python-dateutil>=2.4->Faker->anonLLM) (1.16.0)\n",
            "Requirement already satisfied: charset-normalizer<4,>=2 in /usr/local/lib/python3.10/dist-packages (from requests<3.0.0,>=2.13.0->spacy>=3->anonLLM) (3.4.0)\n",
            "Requirement already satisfied: urllib3<3,>=1.21.1 in /usr/local/lib/python3.10/dist-packages (from requests<3.0.0,>=2.13.0->spacy>=3->anonLLM) (2.2.3)\n",
            "Requirement already satisfied: blis<0.8.0,>=0.7.8 in /usr/local/lib/python3.10/dist-packages (from thinc<8.3.0,>=8.2.2->spacy>=3->anonLLM) (0.7.11)\n",
            "Requirement already satisfied: confection<1.0.0,>=0.0.1 in /usr/local/lib/python3.10/dist-packages (from thinc<8.3.0,>=8.2.2->spacy>=3->anonLLM) (0.1.5)\n",
            "Requirement already satisfied: click>=8.0.0 in /usr/local/lib/python3.10/dist-packages (from typer<1.0.0,>=0.3.0->spacy>=3->anonLLM) (8.1.7)\n",
            "Requirement already satisfied: shellingham>=1.3.0 in /usr/local/lib/python3.10/dist-packages (from typer<1.0.0,>=0.3.0->spacy>=3->anonLLM) (1.5.4)\n",
            "Requirement already satisfied: rich>=10.11.0 in /usr/local/lib/python3.10/dist-packages (from typer<1.0.0,>=0.3.0->spacy>=3->anonLLM) (13.9.4)\n",
            "Requirement already satisfied: cloudpathlib<1.0.0,>=0.7.0 in /usr/local/lib/python3.10/dist-packages (from weasel<0.5.0,>=0.1.0->spacy>=3->anonLLM) (0.20.0)\n",
            "Requirement already satisfied: smart-open<8.0.0,>=5.2.1 in /usr/local/lib/python3.10/dist-packages (from weasel<0.5.0,>=0.1.0->spacy>=3->anonLLM) (7.0.5)\n",
            "Requirement already satisfied: MarkupSafe>=2.0 in /usr/local/lib/python3.10/dist-packages (from jinja2->spacy>=3->anonLLM) (3.0.2)\n",
            "Requirement already satisfied: marisa-trie>=0.7.7 in /usr/local/lib/python3.10/dist-packages (from language-data>=1.2->langcodes<4.0.0,>=3.2.0->spacy>=3->anonLLM) (1.2.1)\n",
            "Requirement already satisfied: markdown-it-py>=2.2.0 in /usr/local/lib/python3.10/dist-packages (from rich>=10.11.0->typer<1.0.0,>=0.3.0->spacy>=3->anonLLM) (3.0.0)\n",
            "Requirement already satisfied: pygments<3.0.0,>=2.13.0 in /usr/local/lib/python3.10/dist-packages (from rich>=10.11.0->typer<1.0.0,>=0.3.0->spacy>=3->anonLLM) (2.18.0)\n",
            "Requirement already satisfied: wrapt in /usr/local/lib/python3.10/dist-packages (from smart-open<8.0.0,>=5.2.1->weasel<0.5.0,>=0.1.0->spacy>=3->anonLLM) (1.16.0)\n",
            "Requirement already satisfied: mdurl~=0.1 in /usr/local/lib/python3.10/dist-packages (from markdown-it-py>=2.2.0->rich>=10.11.0->typer<1.0.0,>=0.3.0->spacy>=3->anonLLM) (0.1.2)\n"
          ]
        }
      ]
    },
    {
      "cell_type": "code",
      "source": [
        "from anonLLM.anonymizer import Anonymizer"
      ],
      "metadata": {
        "id": "gMnmNh5OsCge"
      },
      "execution_count": null,
      "outputs": []
    },
    {
      "cell_type": "code",
      "source": [
        "anonymizer = Anonymizer()"
      ],
      "metadata": {
        "id": "KB6HTvUpsEaB"
      },
      "execution_count": null,
      "outputs": []
    },
    {
      "cell_type": "code",
      "source": [
        "# Input text\n",
        "#input_text = \"My name is Alice Johnson, email: alice.johnson@example.com, phone: +1 234-567-8910.\"\n",
        "input_text = '''James 'Jimmy' Rodriguez, commonly called Jimmy, resides at 123 Elm Street.'''\n"
      ],
      "metadata": {
        "id": "AgY40GwIsGm9"
      },
      "execution_count": null,
      "outputs": []
    },
    {
      "cell_type": "code",
      "source": [
        "# Ensure input_text is treated as a single string\n",
        "preprocessed_input_text = str(input_text)\n",
        "\n",
        "# Call the anonymizer with the preprocessed input\n",
        "anonymized_text, _ = anonymizer.anonymize_data(preprocessed_input_text)\n",
        "\n",
        "# Print only the anonymized text\n",
        "print(\"Anonymized Text:\")\n",
        "print(anonymized_text)\n",
        "\n"
      ],
      "metadata": {
        "colab": {
          "base_uri": "https://localhost:8080/"
        },
        "id": "o_zjqPSM3VZE",
        "outputId": "a3901da8-b42b-4a9f-d652-58f25ef0c195"
      },
      "execution_count": null,
      "outputs": [
        {
          "output_type": "stream",
          "name": "stdout",
          "text": [
            "Anonymized Text:\n",
            "Cynthia Hensley, commonly called Jimmy, resides at 123 Elm Street.\n"
          ]
        }
      ]
    },
    {
      "cell_type": "code",
      "source": [
        "!git clone https://github.com/redhuntlabs/Octopii.git\n"
      ],
      "metadata": {
        "colab": {
          "base_uri": "https://localhost:8080/"
        },
        "id": "jIou5gHX_pB7",
        "outputId": "8f24730a-7b3f-4d32-859d-944e997c730c"
      },
      "execution_count": null,
      "outputs": [
        {
          "output_type": "stream",
          "name": "stdout",
          "text": [
            "Cloning into 'Octopii'...\n",
            "remote: Enumerating objects: 306, done.\u001b[K\n",
            "remote: Counting objects: 100% (232/232), done.\u001b[K\n",
            "remote: Compressing objects: 100% (128/128), done.\u001b[K\n",
            "remote: Total 306 (delta 138), reused 177 (delta 102), pack-reused 74 (from 1)\u001b[K\n",
            "Receiving objects: 100% (306/306), 4.42 MiB | 7.08 MiB/s, done.\n",
            "Resolving deltas: 100% (155/155), done.\n"
          ]
        }
      ]
    },
    {
      "cell_type": "code",
      "source": [
        "%cd Octopii\n"
      ],
      "metadata": {
        "colab": {
          "base_uri": "https://localhost:8080/"
        },
        "id": "IUTHS-1JEDg5",
        "outputId": "af27492b-6938-4d45-f970-80fbc47a2541"
      },
      "execution_count": null,
      "outputs": [
        {
          "output_type": "stream",
          "name": "stdout",
          "text": [
            "/content/Octopii/Octopii/Octopii\n"
          ]
        }
      ]
    },
    {
      "cell_type": "code",
      "source": [
        "!pip install -r requirements.txt\n"
      ],
      "metadata": {
        "colab": {
          "base_uri": "https://localhost:8080/"
        },
        "id": "KKqsGovbEFFG",
        "outputId": "5f12c62a-2a27-49aa-f10c-db19705d7470"
      },
      "execution_count": null,
      "outputs": [
        {
          "output_type": "stream",
          "name": "stdout",
          "text": [
            "Requirement already satisfied: keras in /usr/local/lib/python3.10/dist-packages (from -r requirements.txt (line 1)) (3.5.0)\n",
            "Requirement already satisfied: numpy in /usr/local/lib/python3.10/dist-packages (from -r requirements.txt (line 2)) (1.26.4)\n",
            "Requirement already satisfied: scipy in /usr/local/lib/python3.10/dist-packages (from -r requirements.txt (line 3)) (1.13.1)\n",
            "Requirement already satisfied: scikit-image in /usr/local/lib/python3.10/dist-packages (from -r requirements.txt (line 4)) (0.24.0)\n",
            "Requirement already satisfied: deskew in /usr/local/lib/python3.10/dist-packages (from -r requirements.txt (line 5)) (1.5.1)\n",
            "Requirement already satisfied: tensorflow in /usr/local/lib/python3.10/dist-packages (from -r requirements.txt (line 6)) (2.17.1)\n",
            "Requirement already satisfied: textract in /usr/local/lib/python3.10/dist-packages (from -r requirements.txt (line 7)) (1.6.5)\n",
            "Requirement already satisfied: pdf2image in /usr/local/lib/python3.10/dist-packages (from -r requirements.txt (line 8)) (1.17.0)\n",
            "Requirement already satisfied: matplotlib in /usr/local/lib/python3.10/dist-packages (from -r requirements.txt (line 10)) (3.8.0)\n",
            "Requirement already satisfied: pytesseract in /usr/local/lib/python3.10/dist-packages (from -r requirements.txt (line 11)) (0.3.13)\n",
            "Requirement already satisfied: opencv-python in /usr/local/lib/python3.10/dist-packages (from -r requirements.txt (line 12)) (4.10.0.84)\n",
            "Requirement already satisfied: pillow in /usr/local/lib/python3.10/dist-packages (from -r requirements.txt (line 13)) (11.0.0)\n",
            "Requirement already satisfied: imutils in /usr/local/lib/python3.10/dist-packages (from -r requirements.txt (line 14)) (0.5.4)\n",
            "Requirement already satisfied: xmltodict in /usr/local/lib/python3.10/dist-packages (from -r requirements.txt (line 15)) (0.14.2)\n",
            "Requirement already satisfied: nltk in /usr/local/lib/python3.10/dist-packages (from -r requirements.txt (line 16)) (3.9.1)\n",
            "Requirement already satisfied: bs4 in /usr/local/lib/python3.10/dist-packages (from -r requirements.txt (line 17)) (0.0.2)\n",
            "Requirement already satisfied: requests in /usr/local/lib/python3.10/dist-packages (from -r requirements.txt (line 18)) (2.32.3)\n",
            "Requirement already satisfied: geotext in /usr/local/lib/python3.10/dist-packages (from -r requirements.txt (line 19)) (0.4.0)\n",
            "Requirement already satisfied: spacy in /usr/local/lib/python3.10/dist-packages (from -r requirements.txt (line 20)) (3.7.5)\n",
            "Requirement already satisfied: absl-py in /usr/local/lib/python3.10/dist-packages (from keras->-r requirements.txt (line 1)) (1.4.0)\n",
            "Requirement already satisfied: rich in /usr/local/lib/python3.10/dist-packages (from keras->-r requirements.txt (line 1)) (13.9.4)\n",
            "Requirement already satisfied: namex in /usr/local/lib/python3.10/dist-packages (from keras->-r requirements.txt (line 1)) (0.0.8)\n",
            "Requirement already satisfied: h5py in /usr/local/lib/python3.10/dist-packages (from keras->-r requirements.txt (line 1)) (3.12.1)\n",
            "Requirement already satisfied: optree in /usr/local/lib/python3.10/dist-packages (from keras->-r requirements.txt (line 1)) (0.13.1)\n",
            "Requirement already satisfied: ml-dtypes in /usr/local/lib/python3.10/dist-packages (from keras->-r requirements.txt (line 1)) (0.4.1)\n",
            "Requirement already satisfied: packaging in /usr/local/lib/python3.10/dist-packages (from keras->-r requirements.txt (line 1)) (24.2)\n",
            "Requirement already satisfied: networkx>=2.8 in /usr/local/lib/python3.10/dist-packages (from scikit-image->-r requirements.txt (line 4)) (3.4.2)\n",
            "Requirement already satisfied: imageio>=2.33 in /usr/local/lib/python3.10/dist-packages (from scikit-image->-r requirements.txt (line 4)) (2.36.0)\n",
            "Requirement already satisfied: tifffile>=2022.8.12 in /usr/local/lib/python3.10/dist-packages (from scikit-image->-r requirements.txt (line 4)) (2024.9.20)\n",
            "Requirement already satisfied: lazy-loader>=0.4 in /usr/local/lib/python3.10/dist-packages (from scikit-image->-r requirements.txt (line 4)) (0.4)\n",
            "Requirement already satisfied: astunparse>=1.6.0 in /usr/local/lib/python3.10/dist-packages (from tensorflow->-r requirements.txt (line 6)) (1.6.3)\n",
            "Requirement already satisfied: flatbuffers>=24.3.25 in /usr/local/lib/python3.10/dist-packages (from tensorflow->-r requirements.txt (line 6)) (24.3.25)\n",
            "Requirement already satisfied: gast!=0.5.0,!=0.5.1,!=0.5.2,>=0.2.1 in /usr/local/lib/python3.10/dist-packages (from tensorflow->-r requirements.txt (line 6)) (0.6.0)\n",
            "Requirement already satisfied: google-pasta>=0.1.1 in /usr/local/lib/python3.10/dist-packages (from tensorflow->-r requirements.txt (line 6)) (0.2.0)\n",
            "Requirement already satisfied: libclang>=13.0.0 in /usr/local/lib/python3.10/dist-packages (from tensorflow->-r requirements.txt (line 6)) (18.1.1)\n",
            "Requirement already satisfied: opt-einsum>=2.3.2 in /usr/local/lib/python3.10/dist-packages (from tensorflow->-r requirements.txt (line 6)) (3.4.0)\n",
            "Requirement already satisfied: protobuf!=4.21.0,!=4.21.1,!=4.21.2,!=4.21.3,!=4.21.4,!=4.21.5,<5.0.0dev,>=3.20.3 in /usr/local/lib/python3.10/dist-packages (from tensorflow->-r requirements.txt (line 6)) (4.25.5)\n",
            "Requirement already satisfied: setuptools in /usr/local/lib/python3.10/dist-packages (from tensorflow->-r requirements.txt (line 6)) (75.1.0)\n",
            "Requirement already satisfied: six>=1.12.0 in /usr/local/lib/python3.10/dist-packages (from tensorflow->-r requirements.txt (line 6)) (1.12.0)\n",
            "Requirement already satisfied: termcolor>=1.1.0 in /usr/local/lib/python3.10/dist-packages (from tensorflow->-r requirements.txt (line 6)) (2.5.0)\n",
            "Requirement already satisfied: typing-extensions>=3.6.6 in /usr/local/lib/python3.10/dist-packages (from tensorflow->-r requirements.txt (line 6)) (4.12.2)\n",
            "Requirement already satisfied: wrapt>=1.11.0 in /usr/local/lib/python3.10/dist-packages (from tensorflow->-r requirements.txt (line 6)) (1.16.0)\n",
            "Requirement already satisfied: grpcio<2.0,>=1.24.3 in /usr/local/lib/python3.10/dist-packages (from tensorflow->-r requirements.txt (line 6)) (1.68.0)\n",
            "Requirement already satisfied: tensorboard<2.18,>=2.17 in /usr/local/lib/python3.10/dist-packages (from tensorflow->-r requirements.txt (line 6)) (2.17.1)\n",
            "Requirement already satisfied: tensorflow-io-gcs-filesystem>=0.23.1 in /usr/local/lib/python3.10/dist-packages (from tensorflow->-r requirements.txt (line 6)) (0.37.1)\n",
            "Requirement already satisfied: argcomplete~=1.10.0 in /usr/local/lib/python3.10/dist-packages (from textract->-r requirements.txt (line 7)) (1.10.3)\n",
            "Requirement already satisfied: beautifulsoup4~=4.8.0 in /usr/local/lib/python3.10/dist-packages (from textract->-r requirements.txt (line 7)) (4.8.2)\n",
            "Requirement already satisfied: chardet==3.* in /usr/local/lib/python3.10/dist-packages (from textract->-r requirements.txt (line 7)) (3.0.4)\n",
            "Requirement already satisfied: docx2txt~=0.8 in /usr/local/lib/python3.10/dist-packages (from textract->-r requirements.txt (line 7)) (0.8)\n",
            "Requirement already satisfied: extract-msg<=0.29.* in /usr/local/lib/python3.10/dist-packages (from textract->-r requirements.txt (line 7)) (0.28.7)\n",
            "Requirement already satisfied: pdfminer.six==20191110 in /usr/local/lib/python3.10/dist-packages (from textract->-r requirements.txt (line 7)) (20191110)\n",
            "Requirement already satisfied: python-pptx~=0.6.18 in /usr/local/lib/python3.10/dist-packages (from textract->-r requirements.txt (line 7)) (0.6.23)\n",
            "Requirement already satisfied: SpeechRecognition~=3.8.1 in /usr/local/lib/python3.10/dist-packages (from textract->-r requirements.txt (line 7)) (3.8.1)\n",
            "Requirement already satisfied: xlrd~=1.2.0 in /usr/local/lib/python3.10/dist-packages (from textract->-r requirements.txt (line 7)) (1.2.0)\n",
            "Requirement already satisfied: pycryptodome in /usr/local/lib/python3.10/dist-packages (from pdfminer.six==20191110->textract->-r requirements.txt (line 7)) (3.21.0)\n",
            "Requirement already satisfied: sortedcontainers in /usr/local/lib/python3.10/dist-packages (from pdfminer.six==20191110->textract->-r requirements.txt (line 7)) (2.4.0)\n",
            "Requirement already satisfied: contourpy>=1.0.1 in /usr/local/lib/python3.10/dist-packages (from matplotlib->-r requirements.txt (line 10)) (1.3.1)\n",
            "Requirement already satisfied: cycler>=0.10 in /usr/local/lib/python3.10/dist-packages (from matplotlib->-r requirements.txt (line 10)) (0.12.1)\n",
            "Requirement already satisfied: fonttools>=4.22.0 in /usr/local/lib/python3.10/dist-packages (from matplotlib->-r requirements.txt (line 10)) (4.55.0)\n",
            "Requirement already satisfied: kiwisolver>=1.0.1 in /usr/local/lib/python3.10/dist-packages (from matplotlib->-r requirements.txt (line 10)) (1.4.7)\n",
            "Requirement already satisfied: pyparsing>=2.3.1 in /usr/local/lib/python3.10/dist-packages (from matplotlib->-r requirements.txt (line 10)) (3.2.0)\n",
            "Requirement already satisfied: python-dateutil>=2.7 in /usr/local/lib/python3.10/dist-packages (from matplotlib->-r requirements.txt (line 10)) (2.8.2)\n",
            "Requirement already satisfied: click in /usr/local/lib/python3.10/dist-packages (from nltk->-r requirements.txt (line 16)) (8.1.7)\n",
            "Requirement already satisfied: joblib in /usr/local/lib/python3.10/dist-packages (from nltk->-r requirements.txt (line 16)) (1.4.2)\n",
            "Requirement already satisfied: regex>=2021.8.3 in /usr/local/lib/python3.10/dist-packages (from nltk->-r requirements.txt (line 16)) (2024.9.11)\n",
            "Requirement already satisfied: tqdm in /usr/local/lib/python3.10/dist-packages (from nltk->-r requirements.txt (line 16)) (4.66.6)\n",
            "Requirement already satisfied: charset-normalizer<4,>=2 in /usr/local/lib/python3.10/dist-packages (from requests->-r requirements.txt (line 18)) (3.4.0)\n",
            "Requirement already satisfied: idna<4,>=2.5 in /usr/local/lib/python3.10/dist-packages (from requests->-r requirements.txt (line 18)) (3.10)\n",
            "Requirement already satisfied: urllib3<3,>=1.21.1 in /usr/local/lib/python3.10/dist-packages (from requests->-r requirements.txt (line 18)) (2.2.3)\n",
            "Requirement already satisfied: certifi>=2017.4.17 in /usr/local/lib/python3.10/dist-packages (from requests->-r requirements.txt (line 18)) (2024.8.30)\n",
            "Requirement already satisfied: spacy-legacy<3.1.0,>=3.0.11 in /usr/local/lib/python3.10/dist-packages (from spacy->-r requirements.txt (line 20)) (3.0.12)\n",
            "Requirement already satisfied: spacy-loggers<2.0.0,>=1.0.0 in /usr/local/lib/python3.10/dist-packages (from spacy->-r requirements.txt (line 20)) (1.0.5)\n",
            "Requirement already satisfied: murmurhash<1.1.0,>=0.28.0 in /usr/local/lib/python3.10/dist-packages (from spacy->-r requirements.txt (line 20)) (1.0.10)\n",
            "Requirement already satisfied: cymem<2.1.0,>=2.0.2 in /usr/local/lib/python3.10/dist-packages (from spacy->-r requirements.txt (line 20)) (2.0.8)\n",
            "Requirement already satisfied: preshed<3.1.0,>=3.0.2 in /usr/local/lib/python3.10/dist-packages (from spacy->-r requirements.txt (line 20)) (3.0.9)\n",
            "Requirement already satisfied: thinc<8.3.0,>=8.2.2 in /usr/local/lib/python3.10/dist-packages (from spacy->-r requirements.txt (line 20)) (8.2.5)\n",
            "Requirement already satisfied: wasabi<1.2.0,>=0.9.1 in /usr/local/lib/python3.10/dist-packages (from spacy->-r requirements.txt (line 20)) (1.1.3)\n",
            "Requirement already satisfied: srsly<3.0.0,>=2.4.3 in /usr/local/lib/python3.10/dist-packages (from spacy->-r requirements.txt (line 20)) (2.4.8)\n",
            "Requirement already satisfied: catalogue<2.1.0,>=2.0.6 in /usr/local/lib/python3.10/dist-packages (from spacy->-r requirements.txt (line 20)) (2.0.10)\n",
            "Requirement already satisfied: weasel<0.5.0,>=0.1.0 in /usr/local/lib/python3.10/dist-packages (from spacy->-r requirements.txt (line 20)) (0.4.1)\n",
            "Requirement already satisfied: typer<1.0.0,>=0.3.0 in /usr/local/lib/python3.10/dist-packages (from spacy->-r requirements.txt (line 20)) (0.13.0)\n",
            "Requirement already satisfied: pydantic!=1.8,!=1.8.1,<3.0.0,>=1.7.4 in /usr/local/lib/python3.10/dist-packages (from spacy->-r requirements.txt (line 20)) (2.9.2)\n",
            "Requirement already satisfied: jinja2 in /usr/local/lib/python3.10/dist-packages (from spacy->-r requirements.txt (line 20)) (3.1.4)\n",
            "Requirement already satisfied: langcodes<4.0.0,>=3.2.0 in /usr/local/lib/python3.10/dist-packages (from spacy->-r requirements.txt (line 20)) (3.4.1)\n",
            "Requirement already satisfied: wheel<1.0,>=0.23.0 in /usr/local/lib/python3.10/dist-packages (from astunparse>=1.6.0->tensorflow->-r requirements.txt (line 6)) (0.45.0)\n",
            "Requirement already satisfied: soupsieve>=1.2 in /usr/local/lib/python3.10/dist-packages (from beautifulsoup4~=4.8.0->textract->-r requirements.txt (line 7)) (2.6)\n",
            "Requirement already satisfied: imapclient==2.1.0 in /usr/local/lib/python3.10/dist-packages (from extract-msg<=0.29.*->textract->-r requirements.txt (line 7)) (2.1.0)\n",
            "Requirement already satisfied: olefile>=0.46 in /usr/local/lib/python3.10/dist-packages (from extract-msg<=0.29.*->textract->-r requirements.txt (line 7)) (0.47)\n",
            "Requirement already satisfied: tzlocal>=2.1 in /usr/local/lib/python3.10/dist-packages (from extract-msg<=0.29.*->textract->-r requirements.txt (line 7)) (5.2)\n",
            "Requirement already satisfied: compressed-rtf>=1.0.6 in /usr/local/lib/python3.10/dist-packages (from extract-msg<=0.29.*->textract->-r requirements.txt (line 7)) (1.0.6)\n",
            "Requirement already satisfied: ebcdic>=1.1.1 in /usr/local/lib/python3.10/dist-packages (from extract-msg<=0.29.*->textract->-r requirements.txt (line 7)) (1.1.1)\n",
            "Requirement already satisfied: language-data>=1.2 in /usr/local/lib/python3.10/dist-packages (from langcodes<4.0.0,>=3.2.0->spacy->-r requirements.txt (line 20)) (1.2.0)\n",
            "Requirement already satisfied: annotated-types>=0.6.0 in /usr/local/lib/python3.10/dist-packages (from pydantic!=1.8,!=1.8.1,<3.0.0,>=1.7.4->spacy->-r requirements.txt (line 20)) (0.7.0)\n",
            "Requirement already satisfied: pydantic-core==2.23.4 in /usr/local/lib/python3.10/dist-packages (from pydantic!=1.8,!=1.8.1,<3.0.0,>=1.7.4->spacy->-r requirements.txt (line 20)) (2.23.4)\n",
            "Requirement already satisfied: lxml>=3.1.0 in /usr/local/lib/python3.10/dist-packages (from python-pptx~=0.6.18->textract->-r requirements.txt (line 7)) (5.3.0)\n",
            "Requirement already satisfied: XlsxWriter>=0.5.7 in /usr/local/lib/python3.10/dist-packages (from python-pptx~=0.6.18->textract->-r requirements.txt (line 7)) (3.2.0)\n",
            "Requirement already satisfied: markdown>=2.6.8 in /usr/local/lib/python3.10/dist-packages (from tensorboard<2.18,>=2.17->tensorflow->-r requirements.txt (line 6)) (3.7)\n",
            "Requirement already satisfied: tensorboard-data-server<0.8.0,>=0.7.0 in /usr/local/lib/python3.10/dist-packages (from tensorboard<2.18,>=2.17->tensorflow->-r requirements.txt (line 6)) (0.7.2)\n",
            "Requirement already satisfied: werkzeug>=1.0.1 in /usr/local/lib/python3.10/dist-packages (from tensorboard<2.18,>=2.17->tensorflow->-r requirements.txt (line 6)) (3.1.3)\n",
            "Requirement already satisfied: blis<0.8.0,>=0.7.8 in /usr/local/lib/python3.10/dist-packages (from thinc<8.3.0,>=8.2.2->spacy->-r requirements.txt (line 20)) (0.7.11)\n",
            "Requirement already satisfied: confection<1.0.0,>=0.0.1 in /usr/local/lib/python3.10/dist-packages (from thinc<8.3.0,>=8.2.2->spacy->-r requirements.txt (line 20)) (0.1.5)\n",
            "Requirement already satisfied: shellingham>=1.3.0 in /usr/local/lib/python3.10/dist-packages (from typer<1.0.0,>=0.3.0->spacy->-r requirements.txt (line 20)) (1.5.4)\n",
            "Requirement already satisfied: markdown-it-py>=2.2.0 in /usr/local/lib/python3.10/dist-packages (from rich->keras->-r requirements.txt (line 1)) (3.0.0)\n",
            "Requirement already satisfied: pygments<3.0.0,>=2.13.0 in /usr/local/lib/python3.10/dist-packages (from rich->keras->-r requirements.txt (line 1)) (2.18.0)\n",
            "Requirement already satisfied: cloudpathlib<1.0.0,>=0.7.0 in /usr/local/lib/python3.10/dist-packages (from weasel<0.5.0,>=0.1.0->spacy->-r requirements.txt (line 20)) (0.20.0)\n",
            "Requirement already satisfied: smart-open<8.0.0,>=5.2.1 in /usr/local/lib/python3.10/dist-packages (from weasel<0.5.0,>=0.1.0->spacy->-r requirements.txt (line 20)) (7.0.5)\n",
            "Requirement already satisfied: MarkupSafe>=2.0 in /usr/local/lib/python3.10/dist-packages (from jinja2->spacy->-r requirements.txt (line 20)) (3.0.2)\n",
            "Requirement already satisfied: marisa-trie>=0.7.7 in /usr/local/lib/python3.10/dist-packages (from language-data>=1.2->langcodes<4.0.0,>=3.2.0->spacy->-r requirements.txt (line 20)) (1.2.1)\n",
            "Requirement already satisfied: mdurl~=0.1 in /usr/local/lib/python3.10/dist-packages (from markdown-it-py>=2.2.0->rich->keras->-r requirements.txt (line 1)) (0.1.2)\n",
            "\u001b[33mDEPRECATION: textract 1.6.5 has a non-standard dependency specifier extract-msg<=0.29.*. pip 23.3 will enforce this behaviour change. A possible replacement is to upgrade to a newer version of textract or contact the author to suggest that they release a version with a conforming dependency specifiers. Discussion can be found at https://github.com/pypa/pip/issues/12063\u001b[0m\u001b[33m\n",
            "\u001b[0m"
          ]
        }
      ]
    },
    {
      "cell_type": "code",
      "source": [
        "!pip install textract==1.6.3\n"
      ],
      "metadata": {
        "colab": {
          "base_uri": "https://localhost:8080/"
        },
        "id": "9p1FZatHEGqY",
        "outputId": "5c7bd2d9-9a08-412d-fe7b-a44486ea0a0c"
      },
      "execution_count": null,
      "outputs": [
        {
          "output_type": "stream",
          "name": "stdout",
          "text": [
            "Requirement already satisfied: textract==1.6.3 in /usr/local/lib/python3.10/dist-packages (1.6.3)\n",
            "Requirement already satisfied: argcomplete==1.10.0 in /usr/local/lib/python3.10/dist-packages (from textract==1.6.3) (1.10.0)\n",
            "Requirement already satisfied: beautifulsoup4==4.8.0 in /usr/local/lib/python3.10/dist-packages (from textract==1.6.3) (4.8.0)\n",
            "Requirement already satisfied: chardet==3.0.4 in /usr/local/lib/python3.10/dist-packages (from textract==1.6.3) (3.0.4)\n",
            "Requirement already satisfied: docx2txt==0.8 in /usr/local/lib/python3.10/dist-packages (from textract==1.6.3) (0.8)\n",
            "Requirement already satisfied: EbookLib==0.17.1 in /usr/local/lib/python3.10/dist-packages (from textract==1.6.3) (0.17.1)\n",
            "Requirement already satisfied: extract-msg==0.23.1 in /usr/local/lib/python3.10/dist-packages (from textract==1.6.3) (0.23.1)\n",
            "Requirement already satisfied: pdfminer.six==20181108 in /usr/local/lib/python3.10/dist-packages (from textract==1.6.3) (20181108)\n",
            "Requirement already satisfied: python-pptx==0.6.18 in /usr/local/lib/python3.10/dist-packages (from textract==1.6.3) (0.6.18)\n",
            "Requirement already satisfied: six==1.12.0 in /usr/local/lib/python3.10/dist-packages (from textract==1.6.3) (1.12.0)\n",
            "Requirement already satisfied: SpeechRecognition==3.8.1 in /usr/local/lib/python3.10/dist-packages (from textract==1.6.3) (3.8.1)\n",
            "Requirement already satisfied: xlrd==1.2.0 in /usr/local/lib/python3.10/dist-packages (from textract==1.6.3) (1.2.0)\n",
            "Requirement already satisfied: soupsieve>=1.2 in /usr/local/lib/python3.10/dist-packages (from beautifulsoup4==4.8.0->textract==1.6.3) (2.6)\n",
            "Requirement already satisfied: lxml in /usr/local/lib/python3.10/dist-packages (from EbookLib==0.17.1->textract==1.6.3) (5.3.0)\n",
            "Requirement already satisfied: imapclient==2.1.0 in /usr/local/lib/python3.10/dist-packages (from extract-msg==0.23.1->textract==1.6.3) (2.1.0)\n",
            "Requirement already satisfied: olefile==0.46 in /usr/local/lib/python3.10/dist-packages (from extract-msg==0.23.1->textract==1.6.3) (0.46)\n",
            "Requirement already satisfied: tzlocal==1.5.1 in /usr/local/lib/python3.10/dist-packages (from extract-msg==0.23.1->textract==1.6.3) (1.5.1)\n",
            "Requirement already satisfied: pycryptodome in /usr/local/lib/python3.10/dist-packages (from pdfminer.six==20181108->textract==1.6.3) (3.21.0)\n",
            "Requirement already satisfied: sortedcontainers in /usr/local/lib/python3.10/dist-packages (from pdfminer.six==20181108->textract==1.6.3) (2.4.0)\n",
            "Requirement already satisfied: Pillow>=3.3.2 in /usr/local/lib/python3.10/dist-packages (from python-pptx==0.6.18->textract==1.6.3) (11.0.0)\n",
            "Requirement already satisfied: XlsxWriter>=0.5.7 in /usr/local/lib/python3.10/dist-packages (from python-pptx==0.6.18->textract==1.6.3) (3.2.0)\n",
            "Requirement already satisfied: pytz in /usr/local/lib/python3.10/dist-packages (from tzlocal==1.5.1->extract-msg==0.23.1->textract==1.6.3) (2024.2)\n"
          ]
        }
      ]
    },
    {
      "cell_type": "code",
      "source": [
        "import nltk\n",
        "nltk.download('all')"
      ],
      "metadata": {
        "colab": {
          "base_uri": "https://localhost:8080/"
        },
        "id": "Z-yzzqA-ELQC",
        "outputId": "e462ce17-5049-4303-ec7e-2b39ad0feee6"
      },
      "execution_count": null,
      "outputs": [
        {
          "output_type": "stream",
          "name": "stderr",
          "text": [
            "[nltk_data] Downloading collection 'all'\n",
            "[nltk_data]    | \n",
            "[nltk_data]    | Downloading package abc to /root/nltk_data...\n",
            "[nltk_data]    |   Unzipping corpora/abc.zip.\n",
            "[nltk_data]    | Downloading package alpino to /root/nltk_data...\n",
            "[nltk_data]    |   Unzipping corpora/alpino.zip.\n",
            "[nltk_data]    | Downloading package averaged_perceptron_tagger to\n",
            "[nltk_data]    |     /root/nltk_data...\n",
            "[nltk_data]    |   Package averaged_perceptron_tagger is already up-\n",
            "[nltk_data]    |       to-date!\n",
            "[nltk_data]    | Downloading package averaged_perceptron_tagger_eng to\n",
            "[nltk_data]    |     /root/nltk_data...\n",
            "[nltk_data]    |   Unzipping\n",
            "[nltk_data]    |       taggers/averaged_perceptron_tagger_eng.zip.\n",
            "[nltk_data]    | Downloading package averaged_perceptron_tagger_ru to\n",
            "[nltk_data]    |     /root/nltk_data...\n",
            "[nltk_data]    |   Unzipping\n",
            "[nltk_data]    |       taggers/averaged_perceptron_tagger_ru.zip.\n",
            "[nltk_data]    | Downloading package averaged_perceptron_tagger_rus to\n",
            "[nltk_data]    |     /root/nltk_data...\n",
            "[nltk_data]    |   Unzipping\n",
            "[nltk_data]    |       taggers/averaged_perceptron_tagger_rus.zip.\n",
            "[nltk_data]    | Downloading package basque_grammars to\n",
            "[nltk_data]    |     /root/nltk_data...\n",
            "[nltk_data]    |   Unzipping grammars/basque_grammars.zip.\n",
            "[nltk_data]    | Downloading package bcp47 to /root/nltk_data...\n",
            "[nltk_data]    | Downloading package biocreative_ppi to\n",
            "[nltk_data]    |     /root/nltk_data...\n",
            "[nltk_data]    |   Unzipping corpora/biocreative_ppi.zip.\n",
            "[nltk_data]    | Downloading package bllip_wsj_no_aux to\n",
            "[nltk_data]    |     /root/nltk_data...\n",
            "[nltk_data]    |   Unzipping models/bllip_wsj_no_aux.zip.\n",
            "[nltk_data]    | Downloading package book_grammars to\n",
            "[nltk_data]    |     /root/nltk_data...\n",
            "[nltk_data]    |   Unzipping grammars/book_grammars.zip.\n",
            "[nltk_data]    | Downloading package brown to /root/nltk_data...\n",
            "[nltk_data]    |   Unzipping corpora/brown.zip.\n",
            "[nltk_data]    | Downloading package brown_tei to /root/nltk_data...\n",
            "[nltk_data]    |   Unzipping corpora/brown_tei.zip.\n",
            "[nltk_data]    | Downloading package cess_cat to /root/nltk_data...\n",
            "[nltk_data]    |   Unzipping corpora/cess_cat.zip.\n",
            "[nltk_data]    | Downloading package cess_esp to /root/nltk_data...\n",
            "[nltk_data]    |   Unzipping corpora/cess_esp.zip.\n",
            "[nltk_data]    | Downloading package chat80 to /root/nltk_data...\n",
            "[nltk_data]    |   Unzipping corpora/chat80.zip.\n",
            "[nltk_data]    | Downloading package city_database to\n",
            "[nltk_data]    |     /root/nltk_data...\n",
            "[nltk_data]    |   Unzipping corpora/city_database.zip.\n",
            "[nltk_data]    | Downloading package cmudict to /root/nltk_data...\n",
            "[nltk_data]    |   Unzipping corpora/cmudict.zip.\n",
            "[nltk_data]    | Downloading package comparative_sentences to\n",
            "[nltk_data]    |     /root/nltk_data...\n",
            "[nltk_data]    |   Unzipping corpora/comparative_sentences.zip.\n",
            "[nltk_data]    | Downloading package comtrans to /root/nltk_data...\n",
            "[nltk_data]    | Downloading package conll2000 to /root/nltk_data...\n",
            "[nltk_data]    |   Unzipping corpora/conll2000.zip.\n",
            "[nltk_data]    | Downloading package conll2002 to /root/nltk_data...\n",
            "[nltk_data]    |   Unzipping corpora/conll2002.zip.\n",
            "[nltk_data]    | Downloading package conll2007 to /root/nltk_data...\n",
            "[nltk_data]    | Downloading package crubadan to /root/nltk_data...\n",
            "[nltk_data]    |   Unzipping corpora/crubadan.zip.\n",
            "[nltk_data]    | Downloading package dependency_treebank to\n",
            "[nltk_data]    |     /root/nltk_data...\n",
            "[nltk_data]    |   Unzipping corpora/dependency_treebank.zip.\n",
            "[nltk_data]    | Downloading package dolch to /root/nltk_data...\n",
            "[nltk_data]    |   Unzipping corpora/dolch.zip.\n",
            "[nltk_data]    | Downloading package europarl_raw to\n",
            "[nltk_data]    |     /root/nltk_data...\n",
            "[nltk_data]    |   Unzipping corpora/europarl_raw.zip.\n",
            "[nltk_data]    | Downloading package extended_omw to\n",
            "[nltk_data]    |     /root/nltk_data...\n",
            "[nltk_data]    | Downloading package floresta to /root/nltk_data...\n",
            "[nltk_data]    |   Unzipping corpora/floresta.zip.\n",
            "[nltk_data]    | Downloading package framenet_v15 to\n",
            "[nltk_data]    |     /root/nltk_data...\n",
            "[nltk_data]    |   Unzipping corpora/framenet_v15.zip.\n",
            "[nltk_data]    | Downloading package framenet_v17 to\n",
            "[nltk_data]    |     /root/nltk_data...\n",
            "[nltk_data]    |   Unzipping corpora/framenet_v17.zip.\n",
            "[nltk_data]    | Downloading package gazetteers to /root/nltk_data...\n",
            "[nltk_data]    |   Unzipping corpora/gazetteers.zip.\n",
            "[nltk_data]    | Downloading package genesis to /root/nltk_data...\n",
            "[nltk_data]    |   Unzipping corpora/genesis.zip.\n",
            "[nltk_data]    | Downloading package gutenberg to /root/nltk_data...\n",
            "[nltk_data]    |   Unzipping corpora/gutenberg.zip.\n",
            "[nltk_data]    | Downloading package ieer to /root/nltk_data...\n",
            "[nltk_data]    |   Unzipping corpora/ieer.zip.\n",
            "[nltk_data]    | Downloading package inaugural to /root/nltk_data...\n",
            "[nltk_data]    |   Unzipping corpora/inaugural.zip.\n",
            "[nltk_data]    | Downloading package indian to /root/nltk_data...\n",
            "[nltk_data]    |   Unzipping corpora/indian.zip.\n",
            "[nltk_data]    | Downloading package jeita to /root/nltk_data...\n",
            "[nltk_data]    | Downloading package kimmo to /root/nltk_data...\n",
            "[nltk_data]    |   Unzipping corpora/kimmo.zip.\n",
            "[nltk_data]    | Downloading package knbc to /root/nltk_data...\n",
            "[nltk_data]    | Downloading package large_grammars to\n",
            "[nltk_data]    |     /root/nltk_data...\n",
            "[nltk_data]    |   Unzipping grammars/large_grammars.zip.\n",
            "[nltk_data]    | Downloading package lin_thesaurus to\n",
            "[nltk_data]    |     /root/nltk_data...\n",
            "[nltk_data]    |   Unzipping corpora/lin_thesaurus.zip.\n",
            "[nltk_data]    | Downloading package mac_morpho to /root/nltk_data...\n",
            "[nltk_data]    |   Unzipping corpora/mac_morpho.zip.\n",
            "[nltk_data]    | Downloading package machado to /root/nltk_data...\n",
            "[nltk_data]    | Downloading package masc_tagged to /root/nltk_data...\n",
            "[nltk_data]    | Downloading package maxent_ne_chunker to\n",
            "[nltk_data]    |     /root/nltk_data...\n",
            "[nltk_data]    |   Package maxent_ne_chunker is already up-to-date!\n",
            "[nltk_data]    | Downloading package maxent_ne_chunker_tab to\n",
            "[nltk_data]    |     /root/nltk_data...\n",
            "[nltk_data]    |   Unzipping chunkers/maxent_ne_chunker_tab.zip.\n",
            "[nltk_data]    | Downloading package maxent_treebank_pos_tagger to\n",
            "[nltk_data]    |     /root/nltk_data...\n",
            "[nltk_data]    |   Unzipping taggers/maxent_treebank_pos_tagger.zip.\n",
            "[nltk_data]    | Downloading package maxent_treebank_pos_tagger_tab to\n",
            "[nltk_data]    |     /root/nltk_data...\n",
            "[nltk_data]    |   Unzipping\n",
            "[nltk_data]    |       taggers/maxent_treebank_pos_tagger_tab.zip.\n",
            "[nltk_data]    | Downloading package moses_sample to\n",
            "[nltk_data]    |     /root/nltk_data...\n",
            "[nltk_data]    |   Unzipping models/moses_sample.zip.\n",
            "[nltk_data]    | Downloading package movie_reviews to\n",
            "[nltk_data]    |     /root/nltk_data...\n",
            "[nltk_data]    |   Unzipping corpora/movie_reviews.zip.\n",
            "[nltk_data]    | Downloading package mte_teip5 to /root/nltk_data...\n",
            "[nltk_data]    |   Unzipping corpora/mte_teip5.zip.\n",
            "[nltk_data]    | Downloading package mwa_ppdb to /root/nltk_data...\n",
            "[nltk_data]    |   Unzipping misc/mwa_ppdb.zip.\n",
            "[nltk_data]    | Downloading package names to /root/nltk_data...\n",
            "[nltk_data]    |   Unzipping corpora/names.zip.\n",
            "[nltk_data]    | Downloading package nombank.1.0 to /root/nltk_data...\n",
            "[nltk_data]    | Downloading package nonbreaking_prefixes to\n",
            "[nltk_data]    |     /root/nltk_data...\n",
            "[nltk_data]    |   Unzipping corpora/nonbreaking_prefixes.zip.\n",
            "[nltk_data]    | Downloading package nps_chat to /root/nltk_data...\n",
            "[nltk_data]    |   Unzipping corpora/nps_chat.zip.\n",
            "[nltk_data]    | Downloading package omw to /root/nltk_data...\n",
            "[nltk_data]    | Downloading package omw-1.4 to /root/nltk_data...\n",
            "[nltk_data]    | Downloading package opinion_lexicon to\n",
            "[nltk_data]    |     /root/nltk_data...\n",
            "[nltk_data]    |   Unzipping corpora/opinion_lexicon.zip.\n",
            "[nltk_data]    | Downloading package panlex_swadesh to\n",
            "[nltk_data]    |     /root/nltk_data...\n",
            "[nltk_data]    | Downloading package paradigms to /root/nltk_data...\n",
            "[nltk_data]    |   Unzipping corpora/paradigms.zip.\n",
            "[nltk_data]    | Downloading package pe08 to /root/nltk_data...\n",
            "[nltk_data]    |   Unzipping corpora/pe08.zip.\n",
            "[nltk_data]    | Downloading package perluniprops to\n",
            "[nltk_data]    |     /root/nltk_data...\n",
            "[nltk_data]    |   Unzipping misc/perluniprops.zip.\n",
            "[nltk_data]    | Downloading package pil to /root/nltk_data...\n",
            "[nltk_data]    |   Unzipping corpora/pil.zip.\n",
            "[nltk_data]    | Downloading package pl196x to /root/nltk_data...\n",
            "[nltk_data]    |   Unzipping corpora/pl196x.zip.\n",
            "[nltk_data]    | Downloading package porter_test to /root/nltk_data...\n",
            "[nltk_data]    |   Unzipping stemmers/porter_test.zip.\n",
            "[nltk_data]    | Downloading package ppattach to /root/nltk_data...\n",
            "[nltk_data]    |   Unzipping corpora/ppattach.zip.\n",
            "[nltk_data]    | Downloading package problem_reports to\n",
            "[nltk_data]    |     /root/nltk_data...\n",
            "[nltk_data]    |   Unzipping corpora/problem_reports.zip.\n",
            "[nltk_data]    | Downloading package product_reviews_1 to\n",
            "[nltk_data]    |     /root/nltk_data...\n",
            "[nltk_data]    |   Unzipping corpora/product_reviews_1.zip.\n",
            "[nltk_data]    | Downloading package product_reviews_2 to\n",
            "[nltk_data]    |     /root/nltk_data...\n",
            "[nltk_data]    |   Unzipping corpora/product_reviews_2.zip.\n",
            "[nltk_data]    | Downloading package propbank to /root/nltk_data...\n",
            "[nltk_data]    | Downloading package pros_cons to /root/nltk_data...\n",
            "[nltk_data]    |   Unzipping corpora/pros_cons.zip.\n",
            "[nltk_data]    | Downloading package ptb to /root/nltk_data...\n",
            "[nltk_data]    |   Unzipping corpora/ptb.zip.\n",
            "[nltk_data]    | Downloading package punkt to /root/nltk_data...\n",
            "[nltk_data]    |   Package punkt is already up-to-date!\n",
            "[nltk_data]    | Downloading package punkt_tab to /root/nltk_data...\n",
            "[nltk_data]    |   Unzipping tokenizers/punkt_tab.zip.\n",
            "[nltk_data]    | Downloading package qc to /root/nltk_data...\n",
            "[nltk_data]    |   Unzipping corpora/qc.zip.\n",
            "[nltk_data]    | Downloading package reuters to /root/nltk_data...\n",
            "[nltk_data]    | Downloading package rslp to /root/nltk_data...\n",
            "[nltk_data]    |   Unzipping stemmers/rslp.zip.\n",
            "[nltk_data]    | Downloading package rte to /root/nltk_data...\n",
            "[nltk_data]    |   Unzipping corpora/rte.zip.\n",
            "[nltk_data]    | Downloading package sample_grammars to\n",
            "[nltk_data]    |     /root/nltk_data...\n",
            "[nltk_data]    |   Unzipping grammars/sample_grammars.zip.\n",
            "[nltk_data]    | Downloading package semcor to /root/nltk_data...\n",
            "[nltk_data]    | Downloading package senseval to /root/nltk_data...\n",
            "[nltk_data]    |   Unzipping corpora/senseval.zip.\n",
            "[nltk_data]    | Downloading package sentence_polarity to\n",
            "[nltk_data]    |     /root/nltk_data...\n",
            "[nltk_data]    |   Unzipping corpora/sentence_polarity.zip.\n",
            "[nltk_data]    | Downloading package sentiwordnet to\n",
            "[nltk_data]    |     /root/nltk_data...\n",
            "[nltk_data]    |   Unzipping corpora/sentiwordnet.zip.\n",
            "[nltk_data]    | Downloading package shakespeare to /root/nltk_data...\n",
            "[nltk_data]    |   Unzipping corpora/shakespeare.zip.\n",
            "[nltk_data]    | Downloading package sinica_treebank to\n",
            "[nltk_data]    |     /root/nltk_data...\n",
            "[nltk_data]    |   Unzipping corpora/sinica_treebank.zip.\n",
            "[nltk_data]    | Downloading package smultron to /root/nltk_data...\n",
            "[nltk_data]    |   Unzipping corpora/smultron.zip.\n",
            "[nltk_data]    | Downloading package snowball_data to\n",
            "[nltk_data]    |     /root/nltk_data...\n",
            "[nltk_data]    | Downloading package spanish_grammars to\n",
            "[nltk_data]    |     /root/nltk_data...\n",
            "[nltk_data]    |   Unzipping grammars/spanish_grammars.zip.\n",
            "[nltk_data]    | Downloading package state_union to /root/nltk_data...\n",
            "[nltk_data]    |   Unzipping corpora/state_union.zip.\n",
            "[nltk_data]    | Downloading package stopwords to /root/nltk_data...\n",
            "[nltk_data]    |   Package stopwords is already up-to-date!\n",
            "[nltk_data]    | Downloading package subjectivity to\n",
            "[nltk_data]    |     /root/nltk_data...\n",
            "[nltk_data]    |   Unzipping corpora/subjectivity.zip.\n",
            "[nltk_data]    | Downloading package swadesh to /root/nltk_data...\n",
            "[nltk_data]    |   Unzipping corpora/swadesh.zip.\n",
            "[nltk_data]    | Downloading package switchboard to /root/nltk_data...\n",
            "[nltk_data]    |   Unzipping corpora/switchboard.zip.\n",
            "[nltk_data]    | Downloading package tagsets to /root/nltk_data...\n",
            "[nltk_data]    |   Unzipping help/tagsets.zip.\n",
            "[nltk_data]    | Downloading package tagsets_json to\n",
            "[nltk_data]    |     /root/nltk_data...\n",
            "[nltk_data]    |   Unzipping help/tagsets_json.zip.\n",
            "[nltk_data]    | Downloading package timit to /root/nltk_data...\n",
            "[nltk_data]    |   Unzipping corpora/timit.zip.\n",
            "[nltk_data]    | Downloading package toolbox to /root/nltk_data...\n",
            "[nltk_data]    |   Unzipping corpora/toolbox.zip.\n",
            "[nltk_data]    | Downloading package treebank to /root/nltk_data...\n",
            "[nltk_data]    |   Unzipping corpora/treebank.zip.\n",
            "[nltk_data]    | Downloading package twitter_samples to\n",
            "[nltk_data]    |     /root/nltk_data...\n",
            "[nltk_data]    |   Unzipping corpora/twitter_samples.zip.\n",
            "[nltk_data]    | Downloading package udhr to /root/nltk_data...\n",
            "[nltk_data]    |   Unzipping corpora/udhr.zip.\n",
            "[nltk_data]    | Downloading package udhr2 to /root/nltk_data...\n",
            "[nltk_data]    |   Unzipping corpora/udhr2.zip.\n",
            "[nltk_data]    | Downloading package unicode_samples to\n",
            "[nltk_data]    |     /root/nltk_data...\n",
            "[nltk_data]    |   Unzipping corpora/unicode_samples.zip.\n",
            "[nltk_data]    | Downloading package universal_tagset to\n",
            "[nltk_data]    |     /root/nltk_data...\n",
            "[nltk_data]    |   Unzipping taggers/universal_tagset.zip.\n",
            "[nltk_data]    | Downloading package universal_treebanks_v20 to\n",
            "[nltk_data]    |     /root/nltk_data...\n",
            "[nltk_data]    | Downloading package vader_lexicon to\n",
            "[nltk_data]    |     /root/nltk_data...\n",
            "[nltk_data]    | Downloading package verbnet to /root/nltk_data...\n",
            "[nltk_data]    |   Unzipping corpora/verbnet.zip.\n",
            "[nltk_data]    | Downloading package verbnet3 to /root/nltk_data...\n",
            "[nltk_data]    |   Unzipping corpora/verbnet3.zip.\n",
            "[nltk_data]    | Downloading package webtext to /root/nltk_data...\n",
            "[nltk_data]    |   Unzipping corpora/webtext.zip.\n",
            "[nltk_data]    | Downloading package wmt15_eval to /root/nltk_data...\n",
            "[nltk_data]    |   Unzipping models/wmt15_eval.zip.\n",
            "[nltk_data]    | Downloading package word2vec_sample to\n",
            "[nltk_data]    |     /root/nltk_data...\n",
            "[nltk_data]    |   Unzipping models/word2vec_sample.zip.\n",
            "[nltk_data]    | Downloading package wordnet to /root/nltk_data...\n",
            "[nltk_data]    | Downloading package wordnet2021 to /root/nltk_data...\n",
            "[nltk_data]    | Downloading package wordnet2022 to /root/nltk_data...\n",
            "[nltk_data]    |   Unzipping corpora/wordnet2022.zip.\n",
            "[nltk_data]    | Downloading package wordnet31 to /root/nltk_data...\n",
            "[nltk_data]    | Downloading package wordnet_ic to /root/nltk_data...\n",
            "[nltk_data]    |   Unzipping corpora/wordnet_ic.zip.\n",
            "[nltk_data]    | Downloading package words to /root/nltk_data...\n",
            "[nltk_data]    |   Package words is already up-to-date!\n",
            "[nltk_data]    | Downloading package ycoe to /root/nltk_data...\n",
            "[nltk_data]    |   Unzipping corpora/ycoe.zip.\n",
            "[nltk_data]    | \n",
            "[nltk_data]  Done downloading collection all\n"
          ]
        },
        {
          "output_type": "execute_result",
          "data": {
            "text/plain": [
              "True"
            ]
          },
          "metadata": {},
          "execution_count": 23
        }
      ]
    },
    {
      "cell_type": "code",
      "source": [
        "!sudo apt-get install tesseract-ocr\n"
      ],
      "metadata": {
        "colab": {
          "base_uri": "https://localhost:8080/"
        },
        "id": "lZ7VIEOgEQ2T",
        "outputId": "9eac9b04-d634-4bc2-974c-5859b90da8f0"
      },
      "execution_count": null,
      "outputs": [
        {
          "output_type": "stream",
          "name": "stdout",
          "text": [
            "Reading package lists... Done\n",
            "Building dependency tree... Done\n",
            "Reading state information... Done\n",
            "tesseract-ocr is already the newest version (4.1.1-2.1build1).\n",
            "0 upgraded, 0 newly installed, 0 to remove and 49 not upgraded.\n"
          ]
        }
      ]
    },
    {
      "cell_type": "code",
      "source": [
        "!python octopii.py /content/Octopii/dummy-pii\n"
      ],
      "metadata": {
        "colab": {
          "base_uri": "https://localhost:8080/"
        },
        "id": "JOP9wxjxFIk1",
        "outputId": "716793ee-bd1a-4cf4-e5f1-fcd55973659e"
      },
      "execution_count": null,
      "outputs": [
        {
          "output_type": "stream",
          "name": "stdout",
          "text": [
            "Scanning '/content/Octopii/dummy-pii'\n",
            "{\n",
            "    \"file_path\": \"/content/Octopii/dummy-pii/dummy-hong-kong-resident-id.png\",\n",
            "    \"pii_class\": \"Permanent Identity Card\",\n",
            "    \"score\": 20,\n",
            "    \"country_of_origin\": \"Hong Kong\",\n",
            "    \"faces\": 2,\n",
            "    \"identifiers\": [\n",
            "        \"2867 3057 2532\"\n",
            "    ],\n",
            "    \"emails\": [],\n",
            "    \"phone_numbers\": [],\n",
            "    \"addresses\": [\n",
            "        \"HONG\"\n",
            "    ]\n",
            "}\n",
            "\n",
            "Creating new file named 'output.json' and writing to it.\n",
            "\n",
            "Output saved in output.json\n",
            "{\n",
            "    \"file_path\": \"/content/Octopii/dummy-pii/dummy-drivers-license-maharashtra.jpg\",\n",
            "    \"pii_class\": \"Maharashtra Driver's License\",\n",
            "    \"score\": 28,\n",
            "    \"country_of_origin\": \"India\",\n",
            "    \"faces\": 0,\n",
            "    \"identifiers\": [\n",
            "        \"fnpressio\",\n",
            "        \"MAHARASHT\",\n",
            "        \"Irerercnn\",\n",
            "        \"GAIGANWAD\",\n",
            "        \"HARASHTRA\",\n",
            "        \"Impressio\",\n",
            "        \"Signature\",\n",
            "        \"BAIGANWAD\",\n",
            "        \"FOLLOWING\",\n",
            "        \"THORISATI\",\n",
            "        \"THROUGHOU\"\n",
            "    ],\n",
            "    \"emails\": [],\n",
            "    \"phone_numbers\": [\n",
            "        \"2633 325381\"\n",
            "    ],\n",
            "    \"addresses\": [\n",
            "        \"Holder\",\n",
            "        \"Hokjer\"\n",
            "    ]\n",
            "}\n",
            "\n",
            "Output saved in output.json\n",
            "{\n",
            "    \"file_path\": \"/content/Octopii/dummy-pii/dummy-debit-card.jpg\",\n",
            "    \"pii_class\": \"Banking\",\n",
            "    \"score\": 9,\n",
            "    \"country_of_origin\": null,\n",
            "    \"faces\": 0,\n",
            "    \"identifiers\": [\n",
            "        \"Internati\"\n",
            "    ],\n",
            "    \"emails\": [],\n",
            "    \"phone_numbers\": [],\n",
            "    \"addresses\": []\n",
            "}\n",
            "\n",
            "Output saved in output.json\n",
            "{\n",
            "    \"file_path\": \"/content/Octopii/dummy-pii/dummy-ssn.jpg\",\n",
            "    \"pii_class\": null,\n",
            "    \"score\": 2,\n",
            "    \"country_of_origin\": \"United States\",\n",
            "    \"faces\": 0,\n",
            "    \"identifiers\": [\n",
            "        \"ESTABLISH\",\n",
            "        \"BSTABLisH\"\n",
            "    ],\n",
            "    \"emails\": [],\n",
            "    \"phone_numbers\": [],\n",
            "    \"addresses\": []\n",
            "}\n",
            "\n",
            "Output saved in output.json\n",
            "{\n",
            "    \"file_path\": \"/content/Octopii/dummy-pii/dummy-aadhaar.png\",\n",
            "    \"pii_class\": \"Aadhaar Card\",\n",
            "    \"score\": 33,\n",
            "    \"country_of_origin\": \"India\",\n",
            "    \"faces\": 1,\n",
            "    \"identifiers\": [\n",
            "        \"3977 8800 0234\",\n",
            "        \"200729419067\"\n",
            "    ],\n",
            "    \"emails\": [\n",
            "        \"help@uidai.gov.in\",\n",
            "        \"help@udai.govin\"\n",
            "    ],\n",
            "    \"phone_numbers\": [\n",
            "        \"2007294190\",\n",
            "        \"800 100 1007\",\n",
            "        \"800 180 1947\"\n",
            "    ],\n",
            "    \"addresses\": [\n",
            "        \"Chikiten\",\n",
            "        \"Groestone\",\n",
            "        \"Children\"\n",
            "    ]\n",
            "}\n",
            "\n",
            "Output saved in output.json\n",
            "{\n",
            "    \"file_path\": \"/content/Octopii/dummy-pii/dummy-PAN-India.jpg\",\n",
            "    \"pii_class\": \"Permanent Account Number\",\n",
            "    \"score\": 49,\n",
            "    \"country_of_origin\": \"India\",\n",
            "    \"faces\": 0,\n",
            "    \"identifiers\": [\n",
            "        \"Signature\",\n",
            "        \"Permanent\",\n",
            "        \"DEPARTMEN\"\n",
            "    ],\n",
            "    \"emails\": [],\n",
            "    \"phone_numbers\": [],\n",
            "    \"addresses\": [\n",
            "        \"INDIA\"\n",
            "    ]\n",
            "}\n",
            "\n",
            "Output saved in output.json\n",
            "{\n",
            "    \"file_path\": \"/content/Octopii/dummy-pii/dummy-passport-ukraine.jpg\",\n",
            "    \"pii_class\": \"Ukrainian Passport\",\n",
            "    \"score\": 14,\n",
            "    \"country_of_origin\": \"Ukraine\",\n",
            "    \"faces\": 1,\n",
            "    \"identifiers\": [\n",
            "        \"190803330521\"\n",
            "    ],\n",
            "    \"emails\": [],\n",
            "    \"phone_numbers\": [\n",
            "        \"3052125257\",\n",
            "        \"1908033305\"\n",
            "    ],\n",
            "    \"addresses\": [\n",
            "        \"Uyxpaina\",\n",
            "        \"Opcan\"\n",
            "    ]\n",
            "}\n",
            "\n",
            "Output saved in output.json\n",
            "{\n",
            "    \"file_path\": \"/content/Octopii/dummy-pii/dummy-passport-britain.jpg\",\n",
            "    \"pii_class\": \"British Passport\",\n",
            "    \"score\": 22,\n",
            "    \"country_of_origin\": \"United Kingdom\",\n",
            "    \"faces\": 1,\n",
            "    \"identifiers\": [\n",
            "        \"GBR8111063\"\n",
            "    ],\n",
            "    \"emails\": [],\n",
            "    \"phone_numbers\": [],\n",
            "    \"addresses\": [\n",
            "        \"Northern Ireland\",\n",
            "        \"Northern Ire\"\n",
            "    ]\n",
            "}\n",
            "\n",
            "Output saved in output.json\n"
          ]
        }
      ]
    },
    {
      "cell_type": "code",
      "source": [
        "!python octopii.py /content/test.txt\n"
      ],
      "metadata": {
        "colab": {
          "base_uri": "https://localhost:8080/"
        },
        "id": "06ioA714FUrN",
        "outputId": "992d3981-9e33-4e40-a05a-83b3207afeff"
      },
      "execution_count": null,
      "outputs": [
        {
          "output_type": "stream",
          "name": "stdout",
          "text": [
            "Scanning '/content/test.txt'\n",
            "{\n",
            "    \"file_path\": \"/content/test.txt\",\n",
            "    \"pii_class\": \"Tawuniya Health Insurance\",\n",
            "    \"score\": 9,\n",
            "    \"country_of_origin\": \"Saudi Arabia\",\n",
            "    \"faces\": 0,\n",
            "    \"identifiers\": [\n",
            "        \"4111-1111-1111\",\n",
            "        \"9876-5432-1011\"\n",
            "    ],\n",
            "    \"emails\": [\n",
            "        \"j.rodriguez@workplace.com\",\n",
            "        \"jimmy.rodriguez@gmail.com\"\n",
            "    ],\n",
            "    \"phone_numbers\": [\n",
            "        \"(217) 555-5678\",\n",
            "        \"(217) 555-1234\"\n",
            "    ],\n",
            "    \"addresses\": [\n",
            "        \"Illinois\",\n",
            "        \"Elm Street\",\n",
            "        \"Hispanic\",\n",
            "        \"U.S.\",\n",
            "        \"Springfield\"\n",
            "    ]\n",
            "}\n",
            "\n",
            "Output saved in output.json\n"
          ]
        }
      ]
    },
    {
      "cell_type": "code",
      "source": [
        "pip install datafog"
      ],
      "metadata": {
        "id": "ghJ1P6pdGcdi",
        "colab": {
          "base_uri": "https://localhost:8080/"
        },
        "outputId": "940050ab-2716-47bc-a1fb-368c717c3ec6"
      },
      "execution_count": null,
      "outputs": [
        {
          "output_type": "stream",
          "name": "stdout",
          "text": [
            "Requirement already satisfied: datafog in /usr/local/lib/python3.10/dist-packages (4.0.0)\n",
            "Requirement already satisfied: pandas in /usr/local/lib/python3.10/dist-packages (from datafog) (2.2.2)\n",
            "Requirement already satisfied: requests==2.32.3 in /usr/local/lib/python3.10/dist-packages (from datafog) (2.32.3)\n",
            "Requirement already satisfied: spacy==3.7.5 in /usr/local/lib/python3.10/dist-packages (from datafog) (3.7.5)\n",
            "Requirement already satisfied: pydantic in /usr/local/lib/python3.10/dist-packages (from datafog) (2.9.2)\n",
            "Requirement already satisfied: Pillow in /usr/local/lib/python3.10/dist-packages (from datafog) (11.0.0)\n",
            "Requirement already satisfied: sentencepiece in /usr/local/lib/python3.10/dist-packages (from datafog) (0.2.0)\n",
            "Requirement already satisfied: protobuf in /usr/local/lib/python3.10/dist-packages (from datafog) (4.25.5)\n",
            "Requirement already satisfied: pytesseract in /usr/local/lib/python3.10/dist-packages (from datafog) (0.3.13)\n",
            "Requirement already satisfied: aiohttp in /usr/local/lib/python3.10/dist-packages (from datafog) (3.11.2)\n",
            "Requirement already satisfied: pytest-asyncio in /usr/local/lib/python3.10/dist-packages (from datafog) (0.24.0)\n",
            "Requirement already satisfied: numpy in /usr/local/lib/python3.10/dist-packages (from datafog) (1.26.4)\n",
            "Requirement already satisfied: fastapi in /usr/local/lib/python3.10/dist-packages (from datafog) (0.115.6)\n",
            "Requirement already satisfied: asyncio in /usr/local/lib/python3.10/dist-packages (from datafog) (3.4.3)\n",
            "Requirement already satisfied: setuptools in /usr/local/lib/python3.10/dist-packages (from datafog) (75.1.0)\n",
            "Requirement already satisfied: pydantic-settings==2.3.4 in /usr/local/lib/python3.10/dist-packages (from datafog) (2.3.4)\n",
            "Requirement already satisfied: typer==0.12.3 in /usr/local/lib/python3.10/dist-packages (from datafog) (0.12.3)\n",
            "Requirement already satisfied: sphinx in /usr/local/lib/python3.10/dist-packages (from datafog) (8.1.3)\n",
            "Requirement already satisfied: cryptography in /usr/local/lib/python3.10/dist-packages (from datafog) (43.0.3)\n",
            "Requirement already satisfied: python-dotenv>=0.21.0 in /usr/local/lib/python3.10/dist-packages (from pydantic-settings==2.3.4->datafog) (1.0.1)\n",
            "Requirement already satisfied: charset-normalizer<4,>=2 in /usr/local/lib/python3.10/dist-packages (from requests==2.32.3->datafog) (3.4.0)\n",
            "Requirement already satisfied: idna<4,>=2.5 in /usr/local/lib/python3.10/dist-packages (from requests==2.32.3->datafog) (3.10)\n",
            "Requirement already satisfied: urllib3<3,>=1.21.1 in /usr/local/lib/python3.10/dist-packages (from requests==2.32.3->datafog) (2.2.3)\n",
            "Requirement already satisfied: certifi>=2017.4.17 in /usr/local/lib/python3.10/dist-packages (from requests==2.32.3->datafog) (2024.8.30)\n",
            "Requirement already satisfied: spacy-legacy<3.1.0,>=3.0.11 in /usr/local/lib/python3.10/dist-packages (from spacy==3.7.5->datafog) (3.0.12)\n",
            "Requirement already satisfied: spacy-loggers<2.0.0,>=1.0.0 in /usr/local/lib/python3.10/dist-packages (from spacy==3.7.5->datafog) (1.0.5)\n",
            "Requirement already satisfied: murmurhash<1.1.0,>=0.28.0 in /usr/local/lib/python3.10/dist-packages (from spacy==3.7.5->datafog) (1.0.10)\n",
            "Requirement already satisfied: cymem<2.1.0,>=2.0.2 in /usr/local/lib/python3.10/dist-packages (from spacy==3.7.5->datafog) (2.0.8)\n",
            "Requirement already satisfied: preshed<3.1.0,>=3.0.2 in /usr/local/lib/python3.10/dist-packages (from spacy==3.7.5->datafog) (3.0.9)\n",
            "Requirement already satisfied: thinc<8.3.0,>=8.2.2 in /usr/local/lib/python3.10/dist-packages (from spacy==3.7.5->datafog) (8.2.5)\n",
            "Requirement already satisfied: wasabi<1.2.0,>=0.9.1 in /usr/local/lib/python3.10/dist-packages (from spacy==3.7.5->datafog) (1.1.3)\n",
            "Requirement already satisfied: srsly<3.0.0,>=2.4.3 in /usr/local/lib/python3.10/dist-packages (from spacy==3.7.5->datafog) (2.4.8)\n",
            "Requirement already satisfied: catalogue<2.1.0,>=2.0.6 in /usr/local/lib/python3.10/dist-packages (from spacy==3.7.5->datafog) (2.0.10)\n",
            "Requirement already satisfied: weasel<0.5.0,>=0.1.0 in /usr/local/lib/python3.10/dist-packages (from spacy==3.7.5->datafog) (0.4.1)\n",
            "Requirement already satisfied: tqdm<5.0.0,>=4.38.0 in /usr/local/lib/python3.10/dist-packages (from spacy==3.7.5->datafog) (4.66.6)\n",
            "Requirement already satisfied: jinja2 in /usr/local/lib/python3.10/dist-packages (from spacy==3.7.5->datafog) (3.1.4)\n",
            "Requirement already satisfied: packaging>=20.0 in /usr/local/lib/python3.10/dist-packages (from spacy==3.7.5->datafog) (24.2)\n",
            "Requirement already satisfied: langcodes<4.0.0,>=3.2.0 in /usr/local/lib/python3.10/dist-packages (from spacy==3.7.5->datafog) (3.4.1)\n",
            "Requirement already satisfied: click>=8.0.0 in /usr/local/lib/python3.10/dist-packages (from typer==0.12.3->datafog) (8.1.7)\n",
            "Requirement already satisfied: typing-extensions>=3.7.4.3 in /usr/local/lib/python3.10/dist-packages (from typer==0.12.3->datafog) (4.12.2)\n",
            "Requirement already satisfied: shellingham>=1.3.0 in /usr/local/lib/python3.10/dist-packages (from typer==0.12.3->datafog) (1.5.4)\n",
            "Requirement already satisfied: rich>=10.11.0 in /usr/local/lib/python3.10/dist-packages (from typer==0.12.3->datafog) (13.9.4)\n",
            "Requirement already satisfied: annotated-types>=0.6.0 in /usr/local/lib/python3.10/dist-packages (from pydantic->datafog) (0.7.0)\n",
            "Requirement already satisfied: pydantic-core==2.23.4 in /usr/local/lib/python3.10/dist-packages (from pydantic->datafog) (2.23.4)\n",
            "Requirement already satisfied: aiohappyeyeballs>=2.3.0 in /usr/local/lib/python3.10/dist-packages (from aiohttp->datafog) (2.4.3)\n",
            "Requirement already satisfied: aiosignal>=1.1.2 in /usr/local/lib/python3.10/dist-packages (from aiohttp->datafog) (1.3.1)\n",
            "Requirement already satisfied: attrs>=17.3.0 in /usr/local/lib/python3.10/dist-packages (from aiohttp->datafog) (24.2.0)\n",
            "Requirement already satisfied: frozenlist>=1.1.1 in /usr/local/lib/python3.10/dist-packages (from aiohttp->datafog) (1.5.0)\n",
            "Requirement already satisfied: multidict<7.0,>=4.5 in /usr/local/lib/python3.10/dist-packages (from aiohttp->datafog) (6.1.0)\n",
            "Requirement already satisfied: propcache>=0.2.0 in /usr/local/lib/python3.10/dist-packages (from aiohttp->datafog) (0.2.0)\n",
            "Requirement already satisfied: yarl<2.0,>=1.17.0 in /usr/local/lib/python3.10/dist-packages (from aiohttp->datafog) (1.17.2)\n",
            "Requirement already satisfied: async-timeout<6.0,>=4.0 in /usr/local/lib/python3.10/dist-packages (from aiohttp->datafog) (4.0.3)\n",
            "Requirement already satisfied: cffi>=1.12 in /usr/local/lib/python3.10/dist-packages (from cryptography->datafog) (1.17.1)\n",
            "Requirement already satisfied: starlette<0.42.0,>=0.40.0 in /usr/local/lib/python3.10/dist-packages (from fastapi->datafog) (0.41.3)\n",
            "Requirement already satisfied: python-dateutil>=2.8.2 in /usr/local/lib/python3.10/dist-packages (from pandas->datafog) (2.8.2)\n",
            "Requirement already satisfied: pytz>=2020.1 in /usr/local/lib/python3.10/dist-packages (from pandas->datafog) (2024.2)\n",
            "Requirement already satisfied: tzdata>=2022.7 in /usr/local/lib/python3.10/dist-packages (from pandas->datafog) (2024.2)\n",
            "Requirement already satisfied: pytest<9,>=8.2 in /usr/local/lib/python3.10/dist-packages (from pytest-asyncio->datafog) (8.3.3)\n",
            "Requirement already satisfied: sphinxcontrib-applehelp>=1.0.7 in /usr/local/lib/python3.10/dist-packages (from sphinx->datafog) (2.0.0)\n",
            "Requirement already satisfied: sphinxcontrib-devhelp>=1.0.6 in /usr/local/lib/python3.10/dist-packages (from sphinx->datafog) (2.0.0)\n",
            "Requirement already satisfied: sphinxcontrib-htmlhelp>=2.0.6 in /usr/local/lib/python3.10/dist-packages (from sphinx->datafog) (2.1.0)\n",
            "Requirement already satisfied: sphinxcontrib-jsmath>=1.0.1 in /usr/local/lib/python3.10/dist-packages (from sphinx->datafog) (1.0.1)\n",
            "Requirement already satisfied: sphinxcontrib-qthelp>=1.0.6 in /usr/local/lib/python3.10/dist-packages (from sphinx->datafog) (2.0.0)\n",
            "Requirement already satisfied: sphinxcontrib-serializinghtml>=1.1.9 in /usr/local/lib/python3.10/dist-packages (from sphinx->datafog) (2.0.0)\n",
            "Requirement already satisfied: Pygments>=2.17 in /usr/local/lib/python3.10/dist-packages (from sphinx->datafog) (2.18.0)\n",
            "Requirement already satisfied: docutils<0.22,>=0.20 in /usr/local/lib/python3.10/dist-packages (from sphinx->datafog) (0.21.2)\n",
            "Requirement already satisfied: snowballstemmer>=2.2 in /usr/local/lib/python3.10/dist-packages (from sphinx->datafog) (2.2.0)\n",
            "Requirement already satisfied: babel>=2.13 in /usr/local/lib/python3.10/dist-packages (from sphinx->datafog) (2.16.0)\n",
            "Requirement already satisfied: alabaster>=0.7.14 in /usr/local/lib/python3.10/dist-packages (from sphinx->datafog) (1.0.0)\n",
            "Requirement already satisfied: imagesize>=1.3 in /usr/local/lib/python3.10/dist-packages (from sphinx->datafog) (1.4.1)\n",
            "Requirement already satisfied: tomli>=2 in /usr/local/lib/python3.10/dist-packages (from sphinx->datafog) (2.1.0)\n",
            "Requirement already satisfied: pycparser in /usr/local/lib/python3.10/dist-packages (from cffi>=1.12->cryptography->datafog) (2.22)\n",
            "Requirement already satisfied: MarkupSafe>=2.0 in /usr/local/lib/python3.10/dist-packages (from jinja2->spacy==3.7.5->datafog) (3.0.2)\n",
            "Requirement already satisfied: language-data>=1.2 in /usr/local/lib/python3.10/dist-packages (from langcodes<4.0.0,>=3.2.0->spacy==3.7.5->datafog) (1.2.0)\n",
            "Requirement already satisfied: iniconfig in /usr/local/lib/python3.10/dist-packages (from pytest<9,>=8.2->pytest-asyncio->datafog) (2.0.0)\n",
            "Requirement already satisfied: pluggy<2,>=1.5 in /usr/local/lib/python3.10/dist-packages (from pytest<9,>=8.2->pytest-asyncio->datafog) (1.5.0)\n",
            "Requirement already satisfied: exceptiongroup>=1.0.0rc8 in /usr/local/lib/python3.10/dist-packages (from pytest<9,>=8.2->pytest-asyncio->datafog) (1.2.2)\n",
            "Requirement already satisfied: six>=1.5 in /usr/local/lib/python3.10/dist-packages (from python-dateutil>=2.8.2->pandas->datafog) (1.16.0)\n",
            "Requirement already satisfied: markdown-it-py>=2.2.0 in /usr/local/lib/python3.10/dist-packages (from rich>=10.11.0->typer==0.12.3->datafog) (3.0.0)\n",
            "Requirement already satisfied: anyio<5,>=3.4.0 in /usr/local/lib/python3.10/dist-packages (from starlette<0.42.0,>=0.40.0->fastapi->datafog) (3.7.1)\n",
            "Requirement already satisfied: blis<0.8.0,>=0.7.8 in /usr/local/lib/python3.10/dist-packages (from thinc<8.3.0,>=8.2.2->spacy==3.7.5->datafog) (0.7.11)\n",
            "Requirement already satisfied: confection<1.0.0,>=0.0.1 in /usr/local/lib/python3.10/dist-packages (from thinc<8.3.0,>=8.2.2->spacy==3.7.5->datafog) (0.1.5)\n",
            "Requirement already satisfied: cloudpathlib<1.0.0,>=0.7.0 in /usr/local/lib/python3.10/dist-packages (from weasel<0.5.0,>=0.1.0->spacy==3.7.5->datafog) (0.20.0)\n",
            "Requirement already satisfied: smart-open<8.0.0,>=5.2.1 in /usr/local/lib/python3.10/dist-packages (from weasel<0.5.0,>=0.1.0->spacy==3.7.5->datafog) (7.0.5)\n",
            "Requirement already satisfied: sniffio>=1.1 in /usr/local/lib/python3.10/dist-packages (from anyio<5,>=3.4.0->starlette<0.42.0,>=0.40.0->fastapi->datafog) (1.3.1)\n",
            "Requirement already satisfied: marisa-trie>=0.7.7 in /usr/local/lib/python3.10/dist-packages (from language-data>=1.2->langcodes<4.0.0,>=3.2.0->spacy==3.7.5->datafog) (1.2.1)\n",
            "Requirement already satisfied: mdurl~=0.1 in /usr/local/lib/python3.10/dist-packages (from markdown-it-py>=2.2.0->rich>=10.11.0->typer==0.12.3->datafog) (0.1.2)\n",
            "Requirement already satisfied: wrapt in /usr/local/lib/python3.10/dist-packages (from smart-open<8.0.0,>=5.2.1->weasel<0.5.0,>=0.1.0->spacy==3.7.5->datafog) (1.16.0)\n"
          ]
        }
      ]
    },
    {
      "cell_type": "code",
      "source": [
        "datafog scan-text \"Tim Cook is the CEO of Apple and is based out of Cupertino, California\""
      ],
      "metadata": {
        "colab": {
          "base_uri": "https://localhost:8080/",
          "height": 108
        },
        "id": "8LZaXd6cOCol",
        "outputId": "6a577fed-5da1-4e6a-aaff-0747ed84144c"
      },
      "execution_count": null,
      "outputs": [
        {
          "output_type": "error",
          "ename": "SyntaxError",
          "evalue": "invalid syntax (<ipython-input-3-5e45b44e020b>, line 1)",
          "traceback": [
            "\u001b[0;36m  File \u001b[0;32m\"<ipython-input-3-5e45b44e020b>\"\u001b[0;36m, line \u001b[0;32m1\u001b[0m\n\u001b[0;31m    datafog scan-text \"Tim Cook is the CEO of Apple and is based out of Cupertino, California\"\u001b[0m\n\u001b[0m            ^\u001b[0m\n\u001b[0;31mSyntaxError\u001b[0m\u001b[0;31m:\u001b[0m invalid syntax\n"
          ]
        }
      ]
    },
    {
      "cell_type": "code",
      "source": [],
      "metadata": {
        "id": "FfhN-1nAOU1f"
      },
      "execution_count": null,
      "outputs": []
    }
  ]
}